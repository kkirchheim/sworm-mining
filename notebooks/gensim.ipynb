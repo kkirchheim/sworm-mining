{
 "cells": [
  {
   "cell_type": "code",
   "execution_count": 1,
   "metadata": {
    "collapsed": true
   },
   "outputs": [
    {
     "name": "stderr",
     "output_type": "stream",
     "text": [
      "[nltk_data] Downloading package wordnet to\n",
      "[nltk_data]     /home/ki/projects/scopus/scopus-\n",
      "[nltk_data]     mining/src/../data/cache...\n",
      "[nltk_data]   Package wordnet is already up-to-date!\n",
      "[nltk_data] Downloading package punkt to\n",
      "[nltk_data]     /home/ki/projects/scopus/scopus-\n",
      "[nltk_data]     mining/src/../data/cache...\n",
      "[nltk_data]   Package punkt is already up-to-date!\n",
      "[nltk_data] Downloading package stopwords to\n",
      "[nltk_data]     /home/ki/projects/scopus/scopus-\n",
      "[nltk_data]     mining/src/../data/cache...\n",
      "[nltk_data]   Package stopwords is already up-to-date!\n"
     ]
    }
   ],
   "source": [
    "from gensim import corpora\n",
    "from os.path import join\n",
    "from os import listdir\n",
    "import src.constants as const\n",
    "import pandas as pd\n",
    "import seaborn as sb\n",
    "\n",
    "sb.set()\n",
    "files = [join(const.JOURNALS_DIR, f) for f in listdir(const.JOURNALS_DIR)]\n",
    "path = join(const.ARTIFACTS_DIR, \"preprocessed.pkl\")\n",
    "df = pd.read_pickle(path)"
   ]
  },
  {
   "cell_type": "code",
   "execution_count": 2,
   "outputs": [
    {
     "name": "stdout",
     "output_type": "stream",
     "text": [
      "Creating dict\n",
      "Creating corpus\n"
     ]
    }
   ],
   "source": [
    "n_docs = (~df[\"dc:description:tokenized:gensim\"].isnull()).sum()\n",
    "texts = df[\"dc:description:tokenized:gensim\"] # .apply(preprocess)\n",
    "\n",
    "print(\"Creating dict\")\n",
    "dictionary = corpora.Dictionary(texts)\n",
    "\n",
    "print(\"Creating corpus\")\n",
    "corpus = [dictionary.doc2bow(doc, allow_update=True) for doc in texts]\n"
   ],
   "metadata": {
    "collapsed": false,
    "pycharm": {
     "name": "#%%\n"
    }
   }
  },
  {
   "cell_type": "code",
   "execution_count": 3,
   "outputs": [],
   "source": [
    "dictionary = corpora.Dictionary(texts)"
   ],
   "metadata": {
    "collapsed": false,
    "pycharm": {
     "name": "#%%\n"
    }
   }
  },
  {
   "cell_type": "code",
   "execution_count": 4,
   "outputs": [],
   "source": [
    "mydict = corpora.Dictionary()\n",
    "corpus = [mydict.doc2bow(doc, allow_update=True) for doc in texts]\n"
   ],
   "metadata": {
    "collapsed": false,
    "pycharm": {
     "name": "#%%\n"
    }
   }
  },
  {
   "cell_type": "code",
   "execution_count": 5,
   "outputs": [],
   "source": [
    "from gensim import models\n",
    "tfidf = models.TfidfModel(corpus, smartirs='ntc')"
   ],
   "metadata": {
    "collapsed": false,
    "pycharm": {
     "name": "#%%\n"
    }
   }
  },
  {
   "cell_type": "code",
   "execution_count": 7,
   "outputs": [],
   "source": [
    "from gensim.models import LdaModel, LdaMulticore\n",
    "\n",
    "lda_model = LdaMulticore(corpus=corpus,\n",
    "                         id2word=dictionary,\n",
    "                         random_state=100,\n",
    "                         num_topics=7,\n",
    "                         passes=10,\n",
    "                         chunksize=1000,\n",
    "                         batch=False,\n",
    "                         alpha='asymmetric',\n",
    "                         decay=0.5,\n",
    "                         offset=64,\n",
    "                         eta=None,\n",
    "                         eval_every=0,\n",
    "                         iterations=100,\n",
    "                         gamma_threshold=0.001,\n",
    "                         per_word_topics=True)"
   ],
   "metadata": {
    "collapsed": false,
    "pycharm": {
     "name": "#%%\n"
    }
   }
  },
  {
   "cell_type": "code",
   "execution_count": 8,
   "outputs": [],
   "source": [
    "lda_model.save(join(const.MODELS_DIR, \"lda-gensim\"))"
   ],
   "metadata": {
    "collapsed": false,
    "pycharm": {
     "name": "#%%\n"
    }
   }
  },
  {
   "cell_type": "code",
   "execution_count": 9,
   "outputs": [
    {
     "data": {
      "text/plain": "[(0,\n  '0.061*\"social\" + 0.044*\"work\" + 0.019*\"practice\" + 0.017*\"research\" + 0.014*\"article\" + 0.012*\"student\" + 0.011*\"worker\" + 0.011*\"education\" + 0.008*\"community\" + 0.006*\"study\"'),\n (1,\n  '0.029*\"woman\" + 0.017*\"program\" + 0.014*\"study\" + 0.010*\"group\" + 0.008*\"social\" + 0.008*\"violence\" + 0.007*\"health\" + 0.007*\"hiv\" + 0.007*\"sexual\" + 0.006*\"community\"'),\n (2,\n  '0.028*\"american\" + 0.018*\"scale\" + 0.018*\"african\" + 0.016*\"validity\" + 0.015*\"study\" + 0.012*\"result\" + 0.011*\"ebp\" + 0.011*\"analysis\" + 0.010*\"factor\" + 0.010*\"measure\"'),\n (3,\n  '0.075*\"child\" + 0.029*\"family\" + 0.023*\"parent\" + 0.013*\"study\" + 0.010*\"mother\" + 0.009*\"welfare\" + 0.009*\"foster\" + 0.009*\"service\" + 0.008*\"support\" + 0.007*\"relationship\"'),\n (4,\n  '0.011*\"eating\" + 0.011*\"et\" + 0.010*\"en\" + 0.009*\"mediation\" + 0.004*\"social\" + 0.004*\"og\" + 0.004*\"movie\" + 0.004*\"acculturative\" + 0.004*\"binge\" + 0.003*\"al\"'),\n (5,\n  '0.026*\"social\" + 0.016*\"student\" + 0.015*\"person\" + 0.013*\"study\" + 0.012*\"work\" + 0.011*\"group\" + 0.009*\"young\" + 0.009*\"worker\" + 0.008*\"client\" + 0.008*\"experience\"'),\n (6,\n  '0.028*\"social\" + 0.023*\"health\" + 0.019*\"worker\" + 0.016*\"service\" + 0.014*\"study\" + 0.012*\"group\" + 0.010*\"mental\" + 0.009*\"treatment\" + 0.009*\"patient\" + 0.009*\"intervention\"')]"
     },
     "execution_count": 9,
     "metadata": {},
     "output_type": "execute_result"
    }
   ],
   "source": [
    "lda_model.print_topics(-1)"
   ],
   "metadata": {
    "collapsed": false,
    "pycharm": {
     "name": "#%%\n"
    }
   }
  },
  {
   "cell_type": "code",
   "execution_count": 10,
   "outputs": [
    {
     "name": "stdout",
     "output_type": "stream",
     "text": [
      "Document Topics      :  [(0, 0.59375644), (2, 0.13830768), (5, 0.2624757)]\n",
      "Word id, Topics      :  [(0, [0, 5]), (1, [0, 5]), (2, [0, 5])]\n",
      "Phi Values (word id) :  [(0, [(0, 0.9561347), (5, 0.04251078)]), (1, [(0, 0.9299628), (5, 0.062469766)])]\n",
      "Word, Topics         :  [('abroad', [0, 5]), ('advocacy', [0, 5])]\n",
      "Phi Values (word)    :  [('abroad', [(0, 0.9561347), (5, 0.04251078)]), ('advocacy', [(0, 0.9299628), (5, 0.062469766)])]\n",
      "------------------------------------------------------\n",
      "\n",
      "Document Topics      :  [(0, 0.98623514)]\n",
      "Word id, Topics      :  [(13, [0]), (19, [0]), (20, [0])]\n",
      "Phi Values (word id) :  [(13, [(0, 3.9997697)]), (19, [(0, 1.9999403)])]\n",
      "Word, Topics         :  [('critical', [0]), ('education', [0])]\n",
      "Phi Values (word)    :  [('critical', [(0, 3.9997697)]), ('education', [(0, 1.9999403)])]\n",
      "------------------------------------------------------\n",
      "\n",
      "Document Topics      :  [(0, 0.9887806)]\n",
      "Word id, Topics      :  [(22, [0]), (36, [0]), (39, [0])]\n",
      "Phi Values (word id) :  [(22, [(0, 0.9998473)]), (36, [(0, 2.9998004)])]\n",
      "Word, Topics         :  [('engagement', [0]), ('justice', [0])]\n",
      "Phi Values (word)    :  [('engagement', [(0, 0.9998473)]), ('justice', [(0, 2.9998004)])]\n",
      "------------------------------------------------------\n",
      "\n",
      "Document Topics      :  [(0, 0.9904586)]\n",
      "Word id, Topics      :  [(5, [0]), (8, [0]), (19, [0])]\n",
      "Phi Values (word id) :  [(5, [(0, 0.99997026)]), (8, [(0, 0.999937)])]\n",
      "Word, Topics         :  [('article', [0]), ('case', [0])]\n",
      "Phi Values (word)    :  [('article', [(0, 0.99997026)]), ('case', [(0, 0.999937)])]\n",
      "------------------------------------------------------\n",
      "\n",
      "Document Topics      :  [(0, 0.7770981), (5, 0.21200728)]\n",
      "Word id, Topics      :  [(41, [5, 0]), (75, [0, 5]), (80, [0, 5])]\n",
      "Phi Values (word id) :  [(41, [(0, 0.25321046), (5, 0.74657017)]), (75, [(0, 0.76586455), (5, 0.23401637)])]\n",
      "Word, Topics         :  [('peer', [5, 0]), ('francis', [0, 5])]\n",
      "Phi Values (word)    :  [('peer', [(0, 0.25321046), (5, 0.74657017)]), ('francis', [(0, 0.76586455), (5, 0.23401637)])]\n",
      "------------------------------------------------------\n",
      "\n",
      "Document Topics      :  [(0, 0.31083152), (1, 0.17872518), (5, 0.50281525)]\n",
      "Word id, Topics      :  [(19, [0, 5, 1]), (44, [1, 0, 5]), (57, [5, 0, 1])]\n",
      "Phi Values (word id) :  [(19, [(0, 0.6107945), (1, 0.07413734), (5, 0.3150433)]), (44, [(0, 0.9523838), (1, 1.713337), (5, 0.33419338)])]\n",
      "Word, Topics         :  [('education', [0, 5, 1]), ('program', [1, 0, 5])]\n",
      "Phi Values (word)    :  [('education', [(0, 0.6107945), (1, 0.07413734), (5, 0.3150433)]), ('program', [(0, 0.9523838), (1, 1.713337), (5, 0.33419338)])]\n",
      "------------------------------------------------------\n",
      "\n",
      "Document Topics      :  [(0, 0.8979455), (5, 0.091362685)]\n",
      "Word id, Topics      :  [(0, [0, 5]), (19, [0, 5]), (22, [0, 5])]\n",
      "Phi Values (word id) :  [(0, [(0, 4.9483333), (5, 0.047140997)]), (19, [(0, 0.9712765), (5, 0.02869337)])]\n",
      "Word, Topics         :  [('abroad', [0, 5]), ('education', [0, 5])]\n",
      "Phi Values (word)    :  [('abroad', [(0, 4.9483333), (5, 0.047140997)]), ('education', [(0, 0.9712765), (5, 0.02869337)])]\n",
      "------------------------------------------------------\n",
      "\n",
      "Document Topics      :  [(0, 0.7844475), (6, 0.20786354)]\n",
      "Word id, Topics      :  [(5, [0, 6]), (13, [0, 6]), (15, [0, 6])]\n",
      "Phi Values (word id) :  [(5, [(0, 0.9178281), (6, 0.08214023)]), (13, [(0, 0.9525792), (6, 0.047356907)])]\n",
      "Word, Topics         :  [('article', [0, 6]), ('critical', [0, 6])]\n",
      "Phi Values (word)    :  [('article', [(0, 0.9178281), (6, 0.08214023)]), ('critical', [(0, 0.9525792), (6, 0.047356907)])]\n",
      "------------------------------------------------------\n",
      "\n",
      "Document Topics      :  [(0, 0.7223023), (6, 0.26545206)]\n",
      "Word id, Topics      :  [(20, [0]), (55, [0, 6]), (57, [0, 6])]\n",
      "Phi Values (word id) :  [(20, [(0, 0.99507594)]), (55, [(0, 0.8588457), (6, 0.14113638)])]\n",
      "Word, Topics         :  [('educator', [0]), ('social', [0, 6])]\n",
      "Phi Values (word)    :  [('educator', [(0, 0.99507594)]), ('social', [(0, 0.8588457), (6, 0.14113638)])]\n",
      "------------------------------------------------------\n",
      "\n",
      "Document Topics      :  [(0, 0.2973393), (3, 0.26361537), (5, 0.4286801)]\n",
      "Word id, Topics      :  [(22, [3, 0, 5]), (27, [5, 3, 0]), (39, [3, 5, 0])]\n",
      "Phi Values (word id) :  [(22, [(0, 0.36670256), (3, 0.41362372), (5, 0.21948071)]), (27, [(0, 0.18281183), (3, 0.31432742), (5, 0.50271523)])]\n",
      "Word, Topics         :  [('engagement', [3, 0, 5]), ('finding', [5, 3, 0])]\n",
      "Phi Values (word)    :  [('engagement', [(0, 0.36670256), (3, 0.41362372), (5, 0.21948071)]), ('finding', [(0, 0.18281183), (3, 0.31432742), (5, 0.50271523)])]\n",
      "------------------------------------------------------\n",
      "\n"
     ]
    }
   ],
   "source": [
    "for c in lda_model[corpus[:10]]:\n",
    "    print(\"Document Topics      : \", c[0])      # [(Topics, Perc Contrib)]\n",
    "    print(\"Word id, Topics      : \", c[1][:3])  # [(Word id, [Topics])]\n",
    "    print(\"Phi Values (word id) : \", c[2][:2])  # [(Word id, [(Topic, Phi Value)])]\n",
    "    print(\"Word, Topics         : \", [(dictionary[wd], topic) for wd, topic in c[1][:2]])   # [(Word, [Topics])]\n",
    "    print(\"Phi Values (word)    : \", [(dictionary[wd], topic) for wd, topic in c[2][:2]])  # [(Word, [(Topic, Phi Value)])]\n",
    "    print(\"------------------------------------------------------\\n\")"
   ],
   "metadata": {
    "collapsed": false,
    "pycharm": {
     "name": "#%%\n"
    }
   }
  },
  {
   "cell_type": "code",
   "execution_count": 22,
   "outputs": [],
   "source": [
    "from gensim.models.wrappers import LdaMallet\n",
    "\n",
    "mallet_path = \"/home/ki/crypt/git/Mallet/bin/mallet\"\n",
    "\n",
    "lda_mallet = LdaMallet(mallet_path,\n",
    "                       corpus=corpus,\n",
    "                       num_topics=10,\n",
    "                       alpha=50,\n",
    "                       id2word=dictionary,\n",
    "                       workers=10,\n",
    "                       prefix=None,\n",
    "                       optimize_interval=0,\n",
    "                       iterations=1000,\n",
    "                       topic_threshold=0.0,\n",
    "                       random_seed=0)"
   ],
   "metadata": {
    "collapsed": false,
    "pycharm": {
     "name": "#%%\n"
    }
   }
  },
  {
   "cell_type": "code",
   "execution_count": 23,
   "outputs": [
    {
     "data": {
      "text/plain": "[(0,\n  '0.056*\"research\" + 0.049*\"practice\" + 0.033*\"article\" + 0.025*\"approach\" + 0.018*\"theory\" + 0.017*\"process\" + 0.016*\"literature\" + 0.015*\"paper\" + 0.013*\"framework\" + 0.011*\"context\"'),\n (1,\n  '0.131*\"child\" + 0.087*\"family\" + 0.036*\"parent\" + 0.020*\"person\" + 0.017*\"paper\" + 0.017*\"young\" + 0.017*\"foster\" + 0.015*\"system\" + 0.014*\"home\" + 0.011*\"protection\"'),\n (2,\n  '0.078*\"health\" + 0.031*\"mental\" + 0.031*\"intervention\" + 0.031*\"treatment\" + 0.029*\"problem\" + 0.024*\"patient\" + 0.021*\"group\" + 0.014*\"stress\" + 0.012*\"clinical\" + 0.011*\"depression\"'),\n (3,\n  '0.179*\"social\" + 0.115*\"worker\" + 0.037*\"professional\" + 0.034*\"association\" + 0.033*\"client\" + 0.029*\"national\" + 0.024*\"author\" + 0.021*\"role\" + 0.018*\"practice\" + 0.018*\"case\"'),\n (4,\n  '0.046*\"experience\" + 0.039*\"support\" + 0.037*\"study\" + 0.034*\"relationship\" + 0.026*\"life\" + 0.024*\"finding\" + 0.022*\"interview\" + 0.020*\"qualitative\" + 0.018*\"mother\" + 0.016*\"participant\"'),\n (5,\n  '0.046*\"program\" + 0.038*\"policy\" + 0.025*\"state\" + 0.023*\"welfare\" + 0.016*\"change\" + 0.016*\"public\" + 0.013*\"article\" + 0.012*\"income\" + 0.011*\"economic\" + 0.010*\"benefit\"'),\n (6,\n  '0.178*\"work\" + 0.154*\"social\" + 0.056*\"student\" + 0.044*\"education\" + 0.026*\"practice\" + 0.019*\"field\" + 0.014*\"skill\" + 0.014*\"profession\" + 0.013*\"knowledge\" + 0.013*\"school\"'),\n (7,\n  '0.047*\"study\" + 0.036*\"result\" + 0.027*\"method\" + 0.024*\"analysis\" + 0.021*\"group\" + 0.020*\"factor\" + 0.019*\"research\" + 0.018*\"datum\" + 0.017*\"outcome\" + 0.017*\"effect\"'),\n (8,\n  '0.086*\"service\" + 0.057*\"community\" + 0.051*\"group\" + 0.038*\"francis\" + 0.038*\"taylor\" + 0.034*\"llc\" + 0.020*\"person\" + 0.019*\"older\" + 0.016*\"agency\" + 0.014*\"model\"'),\n (9,\n  '0.042*\"woman\" + 0.024*\"youth\" + 0.021*\"risk\" + 0.018*\"abuse\" + 0.017*\"study\" + 0.017*\"violence\" + 0.017*\"adolescent\" + 0.017*\"american\" + 0.015*\"age\" + 0.014*\"factor\"')]"
     },
     "execution_count": 23,
     "metadata": {},
     "output_type": "execute_result"
    }
   ],
   "source": [
    "lda_mallet.print_topics(-1)"
   ],
   "metadata": {
    "collapsed": false,
    "pycharm": {
     "name": "#%%\n"
    }
   }
  },
  {
   "cell_type": "code",
   "execution_count": 24,
   "outputs": [],
   "source": [
    "import gensim\n",
    "\n",
    "lda_model2 =  gensim.models.wrappers.ldamallet.malletmodel2ldamodel(lda_mallet)\n",
    "lda_model.save(join(const.MODELS_DIR, \"lda-gensim-mallet\"))"
   ],
   "metadata": {
    "collapsed": false,
    "pycharm": {
     "name": "#%%\n"
    }
   }
  },
  {
   "cell_type": "code",
   "execution_count": 25,
   "outputs": [
    {
     "name": "stdout",
     "output_type": "stream",
     "text": [
      "[(0, 0.13504989613553214), (1, 0.05273579086061982), (2, 0.04626499125563798), (3, 0.07002296223732334), (4, 0.11703616593060984), (5, 0.07963551879947041), (6, 0.2166234454237747), (7, 0.045369252747541354), (8, 0.057581127639727586), (9, 0.17968084896976277)]\n",
      "[(0, 0.23491948383744485), (1, 0.05747868739211423), (2, 0.0755166374983547), (3, 0.07819270085450113), (4, 0.07164600496158845), (5, 0.05875479305581082), (6, 0.17635485497610195), (7, 0.07216523987637131), (8, 0.11313611617230078), (9, 0.061835481375411804)]\n",
      "[(0, 0.13031788910531275), (1, 0.053377475822071634), (2, 0.05139474155163718), (3, 0.06180866977125226), (4, 0.05756610098754765), (5, 0.08972946883739112), (6, 0.2766096046651034), (7, 0.06251548519038391), (8, 0.15164258599707378), (9, 0.06503797807222636)]\n",
      "[(0, 0.12385509242088258), (1, 0.06790830131325393), (2, 0.10084338634870542), (3, 0.10142709683398934), (4, 0.0800534049714545), (5, 0.04823404653877157), (6, 0.23108691856713204), (7, 0.11602963383844402), (8, 0.08772205010072164), (9, 0.04284006906664483)]\n",
      "[(0, 0.07239268174291498), (1, 0.05920319849873268), (2, 0.04778787218591946), (3, 0.05968584427624588), (4, 0.13738721661409678), (5, 0.05035479011603463), (6, 0.277455119342433), (7, 0.06869788826868344), (8, 0.16867340472790623), (9, 0.058361984227032766)]\n",
      "[(0, 0.06326678289219473), (1, 0.07347879648676818), (2, 0.06477764820995986), (3, 0.06753042620295133), (4, 0.1482649940960188), (5, 0.14396182972348195), (6, 0.19710665458000243), (7, 0.09137954843810217), (8, 0.08488883804409474), (9, 0.06534448132642581)]\n",
      "[(0, 0.07491218953723429), (1, 0.05101885946390591), (2, 0.0506806361110301), (3, 0.06482673688883799), (4, 0.07962190103044352), (5, 0.06612804126051348), (6, 0.3356591700084588), (7, 0.06994763553258306), (8, 0.10367247400278981), (9, 0.10353235616420306)]\n",
      "[(0, 0.13078240379011652), (1, 0.04255662808407595), (2, 0.12603166850260586), (3, 0.1086458861710669), (4, 0.11015591022096226), (5, 0.040962681823806565), (6, 0.23730560615470966), (7, 0.06324697837706941), (8, 0.09586362446390591), (9, 0.0444486124116807)]\n",
      "[(0, 0.16445902258839973), (1, 0.06873758340888417), (2, 0.15458579592558494), (3, 0.12739354327357433), (4, 0.07988885170982218), (5, 0.05973072889146138), (6, 0.1443575926465058), (7, 0.06393612659924698), (8, 0.07890478087522508), (9, 0.05800597408129528)]\n",
      "[(0, 0.13765174442869593), (1, 0.10939599331246053), (2, 0.06063189521255446), (3, 0.07845513657735843), (4, 0.1406505139773284), (5, 0.05315403755476573), (6, 0.12801865849932628), (7, 0.12847682254012543), (8, 0.07689577003823965), (9, 0.08666942785914533)]\n"
     ]
    }
   ],
   "source": [
    "for c in lda_model2[corpus[:10]]:\n",
    "    print(c)"
   ],
   "metadata": {
    "collapsed": false,
    "pycharm": {
     "name": "#%%\n"
    }
   }
  },
  {
   "cell_type": "code",
   "execution_count": 25,
   "outputs": [],
   "source": [],
   "metadata": {
    "collapsed": false,
    "pycharm": {
     "name": "#%%\n"
    }
   }
  },
  {
   "cell_type": "code",
   "execution_count": null,
   "outputs": [],
   "source": [],
   "metadata": {
    "collapsed": false,
    "pycharm": {
     "name": "#%%\n"
    }
   }
  }
 ],
 "metadata": {
  "kernelspec": {
   "name": "scopus37",
   "language": "python",
   "display_name": "scopus37"
  },
  "language_info": {
   "codemirror_mode": {
    "name": "ipython",
    "version": 2
   },
   "file_extension": ".py",
   "mimetype": "text/x-python",
   "name": "python",
   "nbconvert_exporter": "python",
   "pygments_lexer": "ipython2",
   "version": "2.7.6"
  }
 },
 "nbformat": 4,
 "nbformat_minor": 0
}