{
 "cells": [
  {
   "cell_type": "code",
   "execution_count": null,
   "metadata": {},
   "outputs": [],
   "source": [
    "from os.path import join\n",
    "import pandas as pd\n",
    "import pandas as pd\n",
    "import seaborn as sb\n",
    "import sys\n",
    "import matplotlib.pyplot as plt\n",
    "plt.rcParams[\"figure.figsize\"] = (10,10)\n",
    "\n",
    "\n",
    "sys.path.append(\"../src/\")\n",
    "print(sys.path)\n",
    "import src.constants as const\n",
    "\n",
    "\n",
    "\n",
    "sb.set()\n",
    "\n",
    "df = pd.read_pickle(const.JOURNALS_DF)\n",
    "df.describe()\n",
    "df.head()\n",
    "\n"
   ]
  },
  {
   "cell_type": "code",
   "execution_count": null,
   "metadata": {
    "jupyter": {
     "outputs_hidden": false
    },
    "pycharm": {
     "name": "#%%\n"
    }
   },
   "outputs": [],
   "source": [
    "plt.hist(df[\"citedby-count\"], bins=100)\n",
    "plt.xlim(0, 100)\n",
    "plt.xlabel(\"citedby-count\")\n",
    "plt.savefig(join(const.ARTIFACTS_DIR, \"hist.png\"), dpi=300)\n",
    "plt.show()\n",
    "#sb.displot(df[\"citedby-count\"], hist=True, norm_hist=False, bins=5)\n",
    "#plt.xlim(0, 100)"
   ]
  },
  {
   "cell_type": "code",
   "execution_count": null,
   "metadata": {
    "jupyter": {
     "outputs_hidden": false
    },
    "pycharm": {
     "name": "#%%\n"
    }
   },
   "outputs": [],
   "source": [
    "sb.countplot(data=df, x=\"openaccessFlag\")\n",
    "plt.savefig(join(const.ARTIFACTS_DIR, \"openaccess.png\"), dpi=300)"
   ]
  },
  {
   "cell_type": "code",
   "execution_count": null,
   "metadata": {
    "jupyter": {
     "outputs_hidden": false
    },
    "pycharm": {
     "name": "#%%\n"
    }
   },
   "outputs": [],
   "source": [
    "sb.countplot(data=df, x=\"subtypeDescription\")\n",
    "plt.savefig(join(const.ARTIFACTS_DIR, \"subtypeDescription.png\"), dpi=300)\n",
    "plt.xticks(rotation=90)"
   ]
  },
  {
   "cell_type": "code",
   "execution_count": null,
   "metadata": {
    "jupyter": {
     "outputs_hidden": false
    },
    "pycharm": {
     "name": "#%%\n"
    }
   },
   "outputs": [],
   "source": [
    "fig = plt.figure(figsize=(10,10))\n",
    "sb.countplot(data=df, x=\"prism:publicationName\", orient=\"v\")\n",
    "plt.xticks(rotation=90)\n",
    "plt.tight_layout()\n",
    "plt.savefig(join(const.ARTIFACTS_DIR, \"publicationName.png\"), dpi=300)"
   ]
  },
  {
   "cell_type": "code",
   "execution_count": null,
   "metadata": {
    "jupyter": {
     "outputs_hidden": false
    },
    "pycharm": {
     "name": "#%%\n"
    }
   },
   "outputs": [],
   "source": [
    "abstracts = df[\"dc:description\"].str\n",
    "corpus = abstracts.lower()\n",
    "corpus = corpus[~corpus.isnull()]"
   ]
  },
  {
   "cell_type": "code",
   "execution_count": null,
   "metadata": {
    "jupyter": {
     "outputs_hidden": false
    },
    "pycharm": {
     "name": "#%%\n"
    }
   },
   "outputs": [],
   "source": [
    "\n",
    "g = df.reset_index().set_index(\"prism:coverDate\").groupby(pd.Grouper(freq=\"Y\", dropna=True, sort=True)).count()\n",
    "sb.lineplot(data=g.reset_index(), x=\"prism:coverDate\", y=\"dc:identifier\")\n",
    "plt.ylabel(\"entries\")\n",
    "plt.xlabel(\"year\")\n",
    "plt.savefig(join(const.ARTIFACTS_DIR, \"years.png\"), dpi=300)\n"
   ]
  },
  {
   "cell_type": "code",
   "execution_count": null,
   "metadata": {
    "pycharm": {
     "name": "#%%\n"
    }
   },
   "outputs": [],
   "source": [
    "author_counts = df[\"author:id\"].explode().value_counts()\n",
    "author_counts = author_counts.reset_index().rename(columns = {'index': \"Author\", \"author:id\": \"Publications\"})\n",
    "\n",
    "author_counts[\"Author\"].apply(lambda x: df)\n",
    "sb.barplot(data=author_counts.reset_index()[:20], x=\"Publications\", y=\"Author\", orient=\"h\")\n",
    "#plt.xlabel(\"Count\")\n",
    "# plt.ylabel(\"Author\")"
   ]
  },
  {
   "cell_type": "code",
   "execution_count": null,
   "metadata": {
    "pycharm": {
     "name": "#%%\n"
    }
   },
   "outputs": [],
   "source": [
    "sb.histplot(data=author_counts.reset_index(), x=\"Publications\", bins=100)\n"
   ]
  },
  {
   "cell_type": "code",
   "execution_count": null,
   "metadata": {
    "pycharm": {
     "name": "#%%\n"
    }
   },
   "outputs": [],
   "source": [
    "affil_counts = df[\"affiliation:country\"].explode().value_counts()\n",
    "affil_counts = affil_counts.reset_index().rename(columns = {'index': \"Country\", \"affiliation:country\": \"Publications\"})"
   ]
  },
  {
   "cell_type": "code",
   "execution_count": null,
   "metadata": {
    "pycharm": {
     "name": "#%%\n"
    }
   },
   "outputs": [],
   "source": [
    "sb.barplot(data=affil_counts.reset_index()[:20], x=\"Publications\", y=\"Country\", orient=\"h\")\n",
    "plt.tight_layout()\n",
    "plt.savefig(join(const.ARTIFACTS_DIR, \"country.jpg\"), dpi=300)"
   ]
  },
  {
   "cell_type": "code",
   "execution_count": null,
   "metadata": {
    "pycharm": {
     "name": "#%%\n"
    }
   },
   "outputs": [],
   "source": []
  },
  {
   "cell_type": "code",
   "execution_count": null,
   "metadata": {
    "pycharm": {
     "name": "#%%\n"
    }
   },
   "outputs": [],
   "source": [
    "affil_counts = df[\"affiliation:name\"].explode().value_counts()\n",
    "affil_counts = affil_counts.reset_index().rename(columns = {'index': \"Name\", \"affiliation:name\": \"Publications\"})"
   ]
  },
  {
   "cell_type": "code",
   "execution_count": null,
   "metadata": {
    "pycharm": {
     "name": "#%%\n"
    }
   },
   "outputs": [],
   "source": [
    "sb.barplot(data=affil_counts.reset_index()[:20], x=\"Publications\", y=\"Name\", orient=\"h\")\n",
    "plt.tight_layout()\n",
    "plt.savefig(join(const.ARTIFACTS_DIR, \"affiliations.jpg\"), dpi=300)"
   ]
  },
  {
   "cell_type": "code",
   "execution_count": null,
   "metadata": {
    "pycharm": {
     "name": "#%%\n"
    }
   },
   "outputs": [],
   "source": [
    "a = df[\"prism:doi\"][~df[\"prism:doi\"].isna()]"
   ]
  },
  {
   "cell_type": "code",
   "execution_count": null,
   "metadata": {
    "pycharm": {
     "name": "#%%\n"
    }
   },
   "outputs": [],
   "source": [
    "a.to_csv(\"/home/ki/dois.csv\")"
   ]
  },
  {
   "cell_type": "code",
   "execution_count": null,
   "metadata": {
    "pycharm": {
     "name": "#%%\n"
    }
   },
   "outputs": [],
   "source": [
    "df = pd.read_pickle(const.JOURNALS_DF)"
   ]
  },
  {
   "cell_type": "code",
   "execution_count": null,
   "metadata": {
    "pycharm": {
     "name": "#%%\n"
    }
   },
   "outputs": [],
   "source": [
    "results = df[\"dc:description\"].dropna().str.find(\"digitalization\") != -1"
   ]
  },
  {
   "cell_type": "code",
   "execution_count": null,
   "metadata": {
    "pycharm": {
     "name": "#%%\n"
    }
   },
   "outputs": [],
   "source": [
    "results.sum()"
   ]
  },
  {
   "cell_type": "code",
   "execution_count": null,
   "metadata": {
    "pycharm": {
     "name": "#%%\n"
    }
   },
   "outputs": [],
   "source": []
  },
  {
   "cell_type": "code",
   "execution_count": null,
   "metadata": {
    "pycharm": {
     "name": "#%%\n"
    }
   },
   "outputs": [],
   "source": []
  },
  {
   "cell_type": "code",
   "execution_count": null,
   "metadata": {
    "pycharm": {
     "name": "#%%\n"
    }
   },
   "outputs": [],
   "source": []
  }
 ],
 "metadata": {
  "kernelspec": {
   "display_name": "scopus",
   "language": "python",
   "name": "scopus"
  },
  "language_info": {
   "codemirror_mode": {
    "name": "ipython",
    "version": 3
   },
   "file_extension": ".py",
   "mimetype": "text/x-python",
   "name": "python",
   "nbconvert_exporter": "python",
   "pygments_lexer": "ipython3",
   "version": "3.8.5"
  }
 },
 "nbformat": 4,
 "nbformat_minor": 4
}