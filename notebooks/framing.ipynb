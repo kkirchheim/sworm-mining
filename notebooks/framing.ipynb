{
 "cells": [
  {
   "cell_type": "code",
   "execution_count": null,
   "metadata": {},
   "outputs": [],
   "source": [
    "from src.constants import *\n",
    "import pandas as pd\n",
    "from constants import SPACY_DIR, ARTIFACTS_DIR\n",
    "import spacy\n",
    "from spacy.vocab import Vocab\n",
    "from collections import Counter\n",
    "import tqdm.notebook as tqdm\n",
    "import os"
   ]
  },
  {
   "cell_type": "code",
   "execution_count": null,
   "metadata": {
    "pycharm": {
     "name": "#%%\n"
    }
   },
   "outputs": [],
   "source": [
    "abstracts = pd.read_pickle(JOURNALS_DF)[ABSTRACTS]"
   ]
  },
  {
   "cell_type": "code",
   "execution_count": null,
   "metadata": {
    "pycharm": {
     "name": "#%%\n"
    }
   },
   "outputs": [],
   "source": [
    "framing_map = dict()\n",
    "adj_set = Counter()\n",
    "noun_set = Counter()\n",
    "\n",
    "missing = 0\n",
    "\n",
    "with tqdm.tqdm(abstracts.index) as bar:\n",
    "    for ident in bar:\n",
    "        path = join(SPACY_DIR, f\"{ident}.spacy\")\n",
    "        if not os.path.exists(path):\n",
    "            missing =+ 1\n",
    "            bar.set_postfix({\"Missing\": missing})\n",
    "            continue\n",
    "\n",
    "        doc = spacy.tokens.doc.Doc(Vocab()).from_disk(path)\n",
    "\n",
    "\n",
    "        for token in doc:\n",
    "            if token.pos_ == \"NOUN\":\n",
    "                noun = str(token.text)\n",
    "                noun_set.update([noun])\n",
    "\n",
    "                if noun not in framing_map:\n",
    "                    framing_map[noun] = Counter()\n",
    "\n",
    "                adjectives = []\n",
    "\n",
    "                for child in token.children:\n",
    "                    if child.pos_ == \"ADJ\":\n",
    "                        adjective = str(child.text)\n",
    "                        framing_map[noun].update([adjective])\n",
    "                        adj_set.update([adjective])\n"
   ]
  },
  {
   "cell_type": "code",
   "execution_count": null,
   "metadata": {
    "pycharm": {
     "name": "#%%\n"
    }
   },
   "outputs": [],
   "source": [
    "print(noun_set.most_common(10))\n",
    "print(adj_set.most_common(10))"
   ]
  },
  {
   "cell_type": "code",
   "execution_count": null,
   "metadata": {
    "pycharm": {
     "name": "#%%\n"
    }
   },
   "outputs": [],
   "source": [
    "from collections import OrderedDict\n",
    "\n",
    "nouns = set([n for n, _ in noun_set.most_common(1000)])\n",
    "adjectives = set([a for a, _ in adj_set.most_common(1000)])\n",
    "\n",
    "all_values = nouns.union(adjectives)\n",
    "\n",
    "print(\"Creating dict\")\n",
    "occurrences = OrderedDict((str(key), OrderedDict((str(key), 0) for key in all_values)) for key in all_values)\n",
    "\n",
    "print(\"Filling map\")\n",
    "# Find the co-occurrences:\n",
    "for noun, counter in framing_map.items():\n",
    "    if noun in nouns:\n",
    "        for adj, count in counter.items():\n",
    "            if adj in adjectives:\n",
    "                occurrences[noun][adj] += count"
   ]
  },
  {
   "cell_type": "code",
   "execution_count": null,
   "metadata": {
    "pycharm": {
     "name": "#%%\n"
    }
   },
   "outputs": [],
   "source": [
    "import pandas as pd\n",
    "import csv\n",
    "\n",
    "df = pd.DataFrame(occurrences)\n",
    "df.to_csv(join(ARTIFACTS_DIR, \"framing.csv\"), sep=\";\", quoting=csv.QUOTE_ALL)"
   ]
  },
  {
   "cell_type": "code",
   "execution_count": null,
   "metadata": {
    "pycharm": {
     "name": "#%%\n"
    }
   },
   "outputs": [],
   "source": []
  }
 ],
 "metadata": {
  "kernelspec": {
   "display_name": "scopus",
   "language": "python",
   "name": "scopus"
  },
  "language_info": {
   "codemirror_mode": {
    "name": "ipython",
    "version": 2
   },
   "file_extension": ".py",
   "mimetype": "text/x-python",
   "name": "python",
   "nbconvert_exporter": "python",
   "pygments_lexer": "ipython2",
   "version": "2.7.6"
  }
 },
 "nbformat": 4,
 "nbformat_minor": 0
}
