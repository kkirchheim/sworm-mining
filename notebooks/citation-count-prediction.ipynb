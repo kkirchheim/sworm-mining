{
 "cells": [
  {
   "cell_type": "code",
   "execution_count": null,
   "metadata": {},
   "outputs": [],
   "source": [
    "import pandas as pd\n",
    "from src.constants import JOURNALS_DF\n",
    "from sklearn.model_selection import train_test_split\n",
    "df = pd.read_pickle(JOURNALS_DF)\n",
    "df.describe()\n",
    "\n",
    "X = df[\"dc:description:keywords\"].str.join(\" \")\n",
    "y = df[\"citedby-count\"]\n",
    "\n",
    "x_train, x_test, y_train, y_test = train_test_split(X, y, test_size=0.33, random_state=42)"
   ]
  },
  {
   "cell_type": "code",
   "execution_count": null,
   "metadata": {
    "pycharm": {
     "name": "#%%\n"
    }
   },
   "outputs": [],
   "source": [
    "from sklearn.feature_extraction.text import CountVectorizer, TfidfVectorizer\n",
    "from sklearn.model_selection import train_test_split, cross_val_score, GridSearchCV\n",
    "from sklearn.pipeline import Pipeline\n",
    "from sklearn.ensemble import RandomForestRegressor\n",
    "from sklearn.svm import SVR\n",
    "\n",
    "from sklearn.experimental import enable_hist_gradient_boosting\n",
    "from sklearn.ensemble import HistGradientBoostingRegressor\n",
    "\n",
    "pipe = Pipeline(steps = [\n",
    "    (\"tf\", TfidfVectorizer()),\n",
    "    (\"reg\", RandomForestRegressor())])"
   ]
  },
  {
   "cell_type": "code",
   "execution_count": null,
   "metadata": {
    "pycharm": {
     "name": "#%%\n"
    }
   },
   "outputs": [],
   "source": [
    "from sklearn.metrics import get_scorer\n",
    "\n",
    "scorer = get_scorer(\"neg_mean_squared_error\")\n",
    "params = {\"reg__max_depth\": [4,5],\n",
    "          \"reg__n_estimators\": [100, 200],\n",
    "          #\"reg__learning_rate\": [0.1, 0.01, 0.001],\n",
    "          \"tf__max_features\" : [1000, 2000, 3000, 5000, 1000],\n",
    "          \"tf__stop_words\" : [\"english\"],\n",
    "          \"tf__ngram_range\" : [(1,1),(1,2)],\n",
    "          \"tf__use_idf\" : [True, False]\n",
    "        }\n",
    "\n",
    "gs = GridSearchCV(pipe, params, cv=2, n_jobs=1, scoring=scorer)"
   ]
  },
  {
   "cell_type": "code",
   "execution_count": null,
   "metadata": {
    "pycharm": {
     "name": "#%%\n"
    }
   },
   "outputs": [],
   "source": [
    "gs.fit(x_train, y_train)"
   ]
  },
  {
   "cell_type": "code",
   "execution_count": null,
   "metadata": {
    "pycharm": {
     "name": "#%%\n"
    }
   },
   "outputs": [],
   "source": [
    "gs.score(x_train, y_train)"
   ]
  },
  {
   "cell_type": "code",
   "execution_count": null,
   "metadata": {
    "pycharm": {
     "name": "#%%\n"
    }
   },
   "outputs": [],
   "source": [
    "gs.score(x_test, y_test)\n"
   ]
  },
  {
   "cell_type": "code",
   "execution_count": null,
   "metadata": {
    "pycharm": {
     "name": "#%%\n"
    }
   },
   "outputs": [],
   "source": [
    "results = pd.DataFrame(gs.cv_results_)"
   ]
  },
  {
   "cell_type": "code",
   "execution_count": null,
   "metadata": {
    "pycharm": {
     "name": "#%%\n"
    }
   },
   "outputs": [],
   "source": [
    "#################################\n",
    "\n",
    "tfidf = TfidfVectorizer(max_features=10000)\n",
    "X_train = tfidf.fit_transform(x_train)\n",
    "model = RandomForestRegressor(n_jobs=10)\n",
    "model.fit(X_train, y_train)\n"
   ]
  },
  {
   "cell_type": "code",
   "execution_count": null,
   "metadata": {
    "pycharm": {
     "name": "#%%\n"
    }
   },
   "outputs": [],
   "source": [
    "from sklearn.metrics import mean_squared_error\n",
    "X_test = tfidf.transform(x_test)\n",
    "y_hat_test = model.predict(X_test)\n",
    "\n",
    "print(mean_squared_error(y_hat_test, y_test))"
   ]
  },
  {
   "cell_type": "code",
   "execution_count": null,
   "metadata": {
    "pycharm": {
     "name": "#%%\n"
    }
   },
   "outputs": [],
   "source": [
    "df_re = pd.DataFrame()\n",
    "df_re[\"true\"] = pd.Series(y_test)\n",
    "df_re[\"predict\"] = pd.Series(y_hat_test, index=df_re.index)"
   ]
  },
  {
   "cell_type": "code",
   "execution_count": null,
   "metadata": {
    "pycharm": {
     "name": "#%%\n"
    }
   },
   "outputs": [],
   "source": [
    "import seaborn as sb\n",
    "sb.scatterplot(data=df_re, x=\"true\", y=\"predict\")"
   ]
  },
  {
   "cell_type": "code",
   "execution_count": null,
   "metadata": {
    "pycharm": {
     "name": "#%%\n"
    }
   },
   "outputs": [],
   "source": [
    "###\n",
    "y_hat_train = model.predict(X_train)\n",
    "df_re = pd.DataFrame()\n",
    "df_re[\"true\"] = pd.Series(y_train)\n",
    "df_re[\"predict\"] = pd.Series(y_hat_train, index=df_re.index)\n",
    "sb.scatterplot(data=df_re, x=\"true\", y=\"predict\")\n",
    "\n",
    "print(mean_squared_error(y_hat_train, y_train))"
   ]
  },
  {
   "cell_type": "code",
   "execution_count": null,
   "metadata": {
    "pycharm": {
     "name": "#%%\n"
    }
   },
   "outputs": [],
   "source": []
  },
  {
   "cell_type": "code",
   "execution_count": null,
   "metadata": {
    "pycharm": {
     "name": "#%%\n"
    }
   },
   "outputs": [],
   "source": []
  }
 ],
 "metadata": {
  "kernelspec": {
   "display_name": "scopus37",
   "language": "python",
   "name": "scopus37"
  },
  "language_info": {
   "codemirror_mode": {
    "name": "ipython",
    "version": 2
   },
   "file_extension": ".py",
   "mimetype": "text/x-python",
   "name": "python",
   "nbconvert_exporter": "python",
   "pygments_lexer": "ipython2",
   "version": "2.7.6"
  }
 },
 "nbformat": 4,
 "nbformat_minor": 0
}
