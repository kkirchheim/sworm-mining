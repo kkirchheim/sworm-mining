{
 "cells": [
  {
   "cell_type": "markdown",
   "metadata": {
    "pycharm": {
     "is_executing": true,
     "name": "#%% md\n"
    }
   },
   "source": [
    "Cluster literature using TF-IDF and K-Means. Dimensionality reduction via PCA and T-SNE\n",
    "\n",
    "From:\n",
    "[arxiv-literature-clustering](https://www.kaggle.com/maksimeren/arxiv-literature-clustering)\n"
   ]
  },
  {
   "cell_type": "code",
   "execution_count": null,
   "metadata": {
    "pycharm": {
     "name": "#%%\n"
    }
   },
   "outputs": [],
   "source": [
    "import pandas as pd\n",
    "import seaborn as sb\n",
    "import matplotlib.pyplot as plt\n",
    "import src.constants as const\n",
    "import os\n",
    "plt.rcParams[\"figure.figsize\"] = (10,10)\n",
    "sb.set()\n",
    "\n",
    "df = pd.read_pickle(const.JOURNALS_DF)"
   ]
  },
  {
   "cell_type": "code",
   "execution_count": null,
   "metadata": {
    "pycharm": {
     "name": "#%%\n"
    }
   },
   "outputs": [],
   "source": [
    "todrop = df[\"dc:description:tokenized\"].isna()\n",
    "df = df[~todrop]"
   ]
  },
  {
   "cell_type": "code",
   "execution_count": null,
   "metadata": {
    "pycharm": {
     "name": "#%%\n"
    }
   },
   "outputs": [],
   "source": [
    "from sklearn.feature_extraction.text import TfidfVectorizer\n",
    "\n",
    "def vectorize(text, maxx_features):\n",
    "    vectorizer = TfidfVectorizer(max_features=maxx_features)\n",
    "    X = vectorizer.fit_transform(text)\n",
    "    return X"
   ]
  },
  {
   "cell_type": "code",
   "execution_count": null,
   "metadata": {
    "pycharm": {
     "name": "#%%\n"
    }
   },
   "outputs": [],
   "source": [
    "a = df[\"dc:description:tokenized\"]"
   ]
  },
  {
   "cell_type": "code",
   "execution_count": null,
   "metadata": {
    "pycharm": {
     "name": "#%%\n"
    }
   },
   "outputs": [],
   "source": [
    "%time X = vectorize(df[\"dc:description:tokenized\"], 5000)\n"
   ]
  },
  {
   "cell_type": "code",
   "execution_count": null,
   "metadata": {
    "pycharm": {
     "name": "#%%\n"
    }
   },
   "outputs": [],
   "source": [
    "from sklearn.cluster import KMeans\n",
    "k = 20\n",
    "kmeans = KMeans(n_clusters=k, random_state=42, n_jobs=-1)\n",
    "%time y_pred = kmeans.fit_predict(X)"
   ]
  },
  {
   "cell_type": "code",
   "execution_count": null,
   "metadata": {
    "pycharm": {
     "name": "#%%\n"
    }
   },
   "outputs": [],
   "source": [
    "from sklearn.decomposition import PCA\n",
    "\n",
    "pca = PCA(n_components=20, random_state=42)\n",
    "%time X_embedded_pca= pca.fit_transform(X.toarray())\n",
    "X_embedded_pca.shape\n"
   ]
  },
  {
   "cell_type": "code",
   "execution_count": null,
   "metadata": {
    "pycharm": {
     "name": "#%%\n"
    }
   },
   "outputs": [],
   "source": [
    "from sklearn.manifold import TSNE\n",
    "\n",
    "tsne = TSNE(verbose=0, perplexity=100, random_state=42)\n",
    "%time X_embedded_tsne = tsne.fit_transform(X_embedded_pca)"
   ]
  },
  {
   "cell_type": "code",
   "execution_count": null,
   "metadata": {
    "pycharm": {
     "name": "#%%\n"
    }
   },
   "outputs": [],
   "source": [
    "%matplotlib inline\n",
    "from matplotlib import pyplot as plt\n",
    "import seaborn as sns\n",
    "# sns settings\n",
    "sns.set(rc={'figure.figsize':(20,20)})\n",
    "\n",
    "# plot\n",
    "sns.scatterplot(X_embedded_tsne[:,0], X_embedded_tsne[:,1], hue=list(y_pred), legend='full', palette=\"bright\")\n",
    "plt.title(\"Social Work Literature Clustering\")\n",
    "plt.tight_layout()\n",
    "plt.savefig(os.path.join(const.ARTIFACTS_DIR, \"lit-clustering.pdf\"), dpi=300)\n",
    "plt.show()\n"
   ]
  },
  {
   "cell_type": "code",
   "execution_count": null,
   "metadata": {
    "pycharm": {
     "name": "#%%\n"
    }
   },
   "outputs": [],
   "source": [
    "import pickle\n",
    "\n",
    "with open(os.path.join(const.BOKEH_DIR, \"X-embedding-tfidf.pkl\"), \"wb\") as f:\n",
    "    pickle.dump(X_embedded_tsne, f)\n",
    "\n",
    "with open(os.path.join(const.BOKEH_DIR, \"y-pred-tfidf.pkl\"), \"wb\") as f:\n",
    "    pickle.dump(y_pred, f)\n",
    "\n"
   ]
  },
  {
   "cell_type": "code",
   "execution_count": null,
   "metadata": {
    "pycharm": {
     "name": "#%%\n"
    }
   },
   "outputs": [],
   "source": [
    "# KMEANS HPO\n",
    "# caluclate distortion for various k values to determine optimal number of clusters\n",
    "\n",
    "# ks = []\n",
    "# values = []\n",
    "#\n",
    "# for k in range(2, 300):\n",
    "#     print(f\"Clusters: {k}\")\n",
    "#     kmeans = KMeans(n_clusters=k, random_state=42, n_jobs=-1)\n",
    "#     %time y_pred = kmeans.fit_predict(X)\n",
    "#     v = kmeans.inertia_\n",
    "#     ks.append(k)\n",
    "#     values.append(v)\n",
    "#     print(f\"Distortion: {v}\")\n",
    "\n",
    "# plt.plot(ks, values)"
   ]
  },
  {
   "cell_type": "code",
   "execution_count": null,
   "metadata": {
    "pycharm": {
     "name": "#%%\n"
    }
   },
   "outputs": [],
   "source": [
    "\n"
   ]
  },
  {
   "cell_type": "code",
   "execution_count": null,
   "metadata": {
    "pycharm": {
     "name": "#%%\n"
    }
   },
   "outputs": [],
   "source": []
  }
 ],
 "metadata": {
  "kernelspec": {
   "display_name": "scopus",
   "language": "python",
   "name": "scopus"
  },
  "language_info": {
   "codemirror_mode": {
    "name": "ipython",
    "version": 2
   },
   "file_extension": ".py",
   "mimetype": "text/x-python",
   "name": "python",
   "nbconvert_exporter": "python",
   "pygments_lexer": "ipython2",
   "version": "2.7.6"
  }
 },
 "nbformat": 4,
 "nbformat_minor": 0
}
