{
 "cells": [
  {
   "cell_type": "code",
   "execution_count": 3,
   "metadata": {
    "collapsed": true
   },
   "outputs": [
    {
     "name": "stdout",
     "output_type": "stream",
     "text": [
      "['/home/ki/projects/scopus/scopus-mining/notebooks', '/home/ki/projects/scopus/scopus-mining', '/home/ki/anaconda3/envs/scopus37/lib/python37.zip', '/home/ki/anaconda3/envs/scopus37/lib/python3.7', '/home/ki/anaconda3/envs/scopus37/lib/python3.7/lib-dynload', '', '/home/ki/anaconda3/envs/scopus37/lib/python3.7/site-packages', '/home/ki/anaconda3/envs/scopus37/lib/python3.7/site-packages/IPython/extensions', '/home/ki/.ipython', '..', '/home/ki/pycharm-ee/plugins/python/helpers/pydev', '/home/ki/pycharm-ee/plugins/python/helpers-pro/jupyter_debug', '..']\n"
     ]
    }
   ],
   "source": [
    "# Latent Semantic Indexing\n",
    "\n",
    "from gensim import corpora, models, similarities, downloader\n",
    "import pickle5 as pickle\n",
    "from os.path import join\n",
    "from os import listdir\n",
    "import sys\n",
    "import matplotlib.pyplot as plt\n",
    "sys.path.append(\"..\")\n",
    "print(sys.path)\n",
    "import src.constants as const\n",
    "\n",
    "plt.rcParams[\"figure.figsize\"] = (10,10)\n",
    "\n",
    "files = [join(const.JOURNALS_DIR, f) for f in listdir(const.JOURNALS_DIR)]\n",
    "path = join(const.ARTIFACTS_DIR, \"preprocessed.pkl\")\n",
    "df = pickle.load(open(path, \"rb\"))"
   ]
  },
  {
   "cell_type": "code",
   "execution_count": 4,
   "outputs": [
    {
     "name": "stdout",
     "output_type": "stream",
     "text": [
      "Creating dict\n",
      "Creating corpus\n"
     ]
    }
   ],
   "source": [
    "n_docs = (~df[\"dc:description:tokenized:gensim\"].isnull()).sum()\n",
    "texts = df[\"dc:description:tokenized:gensim\"] # .apply(preprocess)\n",
    "\n",
    "print(\"Creating dict\")\n",
    "dictionary = corpora.Dictionary(texts)\n",
    "\n",
    "print(\"Creating corpus\")\n",
    "corpus = [dictionary.doc2bow(doc, allow_update=True) for doc in texts]"
   ],
   "metadata": {
    "collapsed": false,
    "pycharm": {
     "name": "#%%\n"
    }
   }
  },
  {
   "cell_type": "code",
   "execution_count": 34,
   "outputs": [],
   "source": [
    "\n",
    "lsi = models.LsiModel(corpus, num_topics=10)"
   ],
   "metadata": {
    "collapsed": false,
    "pycharm": {
     "name": "#%%\n"
    }
   }
  },
  {
   "cell_type": "code",
   "execution_count": 35,
   "outputs": [
    {
     "name": "stdout",
     "output_type": "stream",
     "text": [
      "social 0.6688406636613021\n",
      "work 0.3827462594140975\n",
      "worker 0.20344385417550861\n",
      "practice 0.1677147148470125\n",
      "child 0.16446665513276607\n",
      "study 0.15202349568257517\n",
      "research 0.1340232695017255\n",
      "service 0.13082474071571396\n",
      "group 0.11080708085235559\n",
      "health 0.105097250966172\n",
      "------------------------------------------------------\n",
      "\n",
      "child -0.6564075826913043\n",
      "social 0.3506589091721534\n",
      "work 0.2871655621104062\n",
      "family -0.2688897256548189\n",
      "study -0.1794585770639011\n",
      "parent -0.16491011438098738\n",
      "service -0.15595984209114805\n",
      "group -0.10872723686480587\n",
      "health -0.10409499378065885\n",
      "support -0.09064456509344619\n",
      "------------------------------------------------------\n",
      "\n",
      "child -0.5876470629231191\n",
      "health 0.3248717139112962\n",
      "service 0.26108745898022423\n",
      "group 0.24809092596390875\n",
      "work -0.20717801901025815\n",
      "study 0.206712279747961\n",
      "social -0.16325939353668287\n",
      "community 0.14551093756097946\n",
      "mental 0.12551984994494692\n",
      "program 0.1197485127638494\n",
      "------------------------------------------------------\n",
      "\n",
      "worker -0.5111363568043763\n",
      "student 0.3891554164971072\n",
      "work 0.37346875197120644\n",
      "social -0.2913032553812083\n",
      "service -0.20379400229145142\n",
      "research 0.1988834867098902\n",
      "group 0.18373041457906214\n",
      "health -0.176886634595164\n",
      "education 0.16216537107820406\n",
      "program 0.1472310559156155\n",
      "------------------------------------------------------\n",
      "\n",
      "service -0.6290798995792927\n",
      "health -0.30972776597873763\n",
      "worker 0.2865905417839646\n",
      "group 0.24776170280871979\n",
      "study 0.22519108739275315\n",
      "work -0.22113774521778726\n",
      "mental -0.14986343549585493\n",
      "practice -0.13247122218329566\n",
      "community -0.12339473310072083\n",
      "intervention 0.1183602092656886\n",
      "------------------------------------------------------\n",
      "\n",
      "health 0.6311312000006002\n",
      "family -0.5351138862187869\n",
      "service -0.30142414705674764\n",
      "child 0.23536232755931547\n",
      "mental 0.2308027097456124\n",
      "community -0.11969052319282025\n",
      "support -0.09462128371141659\n",
      "practice -0.08826278673620054\n",
      "program -0.07410918804414965\n",
      "student 0.06826372019248961\n",
      "------------------------------------------------------\n",
      "\n",
      "research -0.5171031776441142\n",
      "practice -0.5008550508340416\n",
      "family 0.32521095198816624\n",
      "student 0.23546633898485625\n",
      "program 0.2052906633171391\n",
      "education 0.13647213754800233\n",
      "group 0.13241885358261624\n",
      "social 0.1243344480315166\n",
      "worker -0.12114428638873934\n",
      "work 0.11402601033196572\n",
      "------------------------------------------------------\n",
      "\n",
      "family -0.6469300380147754\n",
      "service 0.40870126338379537\n",
      "health -0.36830340305011244\n",
      "practice -0.24125419820592625\n",
      "child 0.16287707047274752\n",
      "group 0.15522425260949152\n",
      "program 0.15269858730757327\n",
      "student 0.1414952488237618\n",
      "mental -0.13750105189317377\n",
      "work -0.13382484779150938\n",
      "------------------------------------------------------\n",
      "\n",
      "group -0.5528375195442814\n",
      "woman 0.495090179230604\n",
      "practice -0.27430717035593827\n",
      "study 0.23267264976396718\n",
      "taylor -0.1554207587360029\n",
      "francis -0.15539898200645388\n",
      "llc -0.13530488213818842\n",
      "worker -0.13497538803083237\n",
      "violence 0.12432574329633353\n",
      "experience 0.11015454771949683\n",
      "------------------------------------------------------\n",
      "\n",
      "community 0.8595818819829203\n",
      "service -0.25605111228355887\n",
      "research -0.1625162191894879\n",
      "development 0.1145806344727385\n",
      "program 0.11293089078242535\n",
      "right 0.09458144325973657\n",
      "work -0.09252808950259944\n",
      "group -0.0902414096884817\n",
      "press 0.0851644463100619\n",
      "haworth 0.08159949722685722\n",
      "------------------------------------------------------\n",
      "\n"
     ]
    }
   ],
   "source": [
    "for no, topic in lsi.show_topics(num_topics=10, num_words=10, formatted=False):\n",
    "    # print(topic)\n",
    "    for wd, contrib in topic:\n",
    "        word = dictionary.id2token[int(wd)]\n",
    "        print(word, contrib)\n",
    "\n",
    "    print(\"------------------------------------------------------\\n\")\n"
   ],
   "metadata": {
    "collapsed": false,
    "pycharm": {
     "name": "#%%\n"
    }
   }
  },
  {
   "cell_type": "code",
   "execution_count": 36,
   "outputs": [
    {
     "name": "stdout",
     "output_type": "stream",
     "text": [
      "Document Topics      :  (0, 6.569540726271806)\n",
      "Word id, Topics      :  (1, 2.3227464336350123)\n",
      "Phi Values (word id) :  (2, -0.38012965053373104)\n",
      "------------------------------------------------------\n",
      "\n",
      "Document Topics      :  (0, 3.235226018317622)\n",
      "Word id, Topics      :  (1, 0.8905921883704557)\n",
      "Phi Values (word id) :  (2, -0.047876445612600904)\n",
      "------------------------------------------------------\n",
      "\n",
      "Document Topics      :  (0, 5.196705705547544)\n",
      "Word id, Topics      :  (1, 2.312560508175559)\n",
      "Phi Values (word id) :  (2, -0.5646563733277413)\n",
      "------------------------------------------------------\n",
      "\n",
      "Document Topics      :  (0, 7.016092071877042)\n",
      "Word id, Topics      :  (1, 2.571147138354904)\n",
      "Phi Values (word id) :  (2, -0.6693277924801881)\n",
      "------------------------------------------------------\n",
      "\n",
      "Document Topics      :  (0, 0.6627661524103968)\n",
      "Word id, Topics      :  (1, -0.4356889700711796)\n",
      "Phi Values (word id) :  (2, 0.5924274571741016)\n",
      "------------------------------------------------------\n",
      "\n",
      "Document Topics      :  (0, 2.184098117075164)\n",
      "Word id, Topics      :  (1, -0.19817097309668552)\n",
      "Phi Values (word id) :  (2, 1.2035407438303378)\n",
      "------------------------------------------------------\n",
      "\n",
      "Document Topics      :  (0, 5.475048289015409)\n",
      "Word id, Topics      :  (1, 1.7685816270256824)\n",
      "Phi Values (word id) :  (2, -0.1425951061091606)\n",
      "------------------------------------------------------\n",
      "\n",
      "Document Topics      :  (0, 4.817985716571243)\n",
      "Word id, Topics      :  (1, 0.29734913946052216)\n",
      "Phi Values (word id) :  (2, 2.067482141648533)\n",
      "------------------------------------------------------\n",
      "\n",
      "Document Topics      :  (0, 2.863816320266851)\n",
      "Word id, Topics      :  (1, -0.03958712368230204)\n",
      "Phi Values (word id) :  (2, 1.5174186140737556)\n",
      "------------------------------------------------------\n",
      "\n",
      "Document Topics      :  (0, 3.0081402864391147)\n",
      "Word id, Topics      :  (1, -1.730025567750766)\n",
      "Phi Values (word id) :  (2, -0.66347775719313)\n",
      "------------------------------------------------------\n",
      "\n"
     ]
    }
   ],
   "source": [
    "for c in lsi[corpus[:10]]:\n",
    "    # print(c)\n",
    "    print(\"Document Topics      : \", c[0])      # [(Topics, Perc Contrib)]\n",
    "    print(\"Word id, Topics      : \", c[1][:3])  # [(Word id, [Topics])]\n",
    "    print(\"Phi Values (word id) : \", c[2][:2])  # [(Word id, [(Topic, Phi Value)])]ord, [(Topic, Phi Value)])]\n",
    "    print(\"------------------------------------------------------\\n\")"
   ],
   "metadata": {
    "collapsed": false,
    "pycharm": {
     "name": "#%%\n"
    }
   }
  },
  {
   "cell_type": "code",
   "execution_count": null,
   "outputs": [],
   "source": [],
   "metadata": {
    "collapsed": false,
    "pycharm": {
     "name": "#%%\n"
    }
   }
  }
 ],
 "metadata": {
  "kernelspec": {
   "name": "scopus37",
   "language": "python",
   "display_name": "scopus37"
  },
  "language_info": {
   "codemirror_mode": {
    "name": "ipython",
    "version": 2
   },
   "file_extension": ".py",
   "mimetype": "text/x-python",
   "name": "python",
   "nbconvert_exporter": "python",
   "pygments_lexer": "ipython2",
   "version": "2.7.6"
  }
 },
 "nbformat": 4,
 "nbformat_minor": 0
}