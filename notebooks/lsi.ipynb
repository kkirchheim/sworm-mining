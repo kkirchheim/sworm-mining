{
 "cells": [
  {
   "cell_type": "code",
   "execution_count": null,
   "metadata": {},
   "outputs": [],
   "source": [
    "# Latent Semantic Indexing\n",
    "\n",
    "from gensim import corpora, models, similarities, downloader\n",
    "import pickle5 as pickle\n",
    "from os.path import join\n",
    "from os import listdir\n",
    "import sys\n",
    "import matplotlib.pyplot as plt\n",
    "sys.path.append(\"..\")\n",
    "print(sys.path)\n",
    "import src.constants as const\n",
    "\n",
    "plt.rcParams[\"figure.figsize\"] = (10,10)\n",
    "\n",
    "files = [join(const.JOURNALS_DIR, f) for f in listdir(const.JOURNALS_DIR)]\n",
    "path = join(const.ARTIFACTS_DIR, \"preprocessed.pkl\")\n",
    "df = pickle.load(open(path, \"rb\"))"
   ]
  },
  {
   "cell_type": "code",
   "execution_count": null,
   "metadata": {
    "pycharm": {
     "name": "#%%\n"
    }
   },
   "outputs": [],
   "source": [
    "n_docs = (~df[\"dc:description:tokenized:gensim\"].isnull()).sum()\n",
    "texts = df[\"dc:description:tokenized:gensim\"] # .apply(preprocess)\n",
    "\n",
    "print(\"Creating dict\")\n",
    "dictionary = corpora.Dictionary(texts)\n",
    "\n",
    "print(\"Creating corpus\")\n",
    "corpus = [dictionary.doc2bow(doc, allow_update=True) for doc in texts]"
   ]
  },
  {
   "cell_type": "code",
   "execution_count": null,
   "metadata": {
    "pycharm": {
     "name": "#%%\n"
    }
   },
   "outputs": [],
   "source": [
    "\n",
    "lsi = models.LsiModel(corpus, num_topics=10)"
   ]
  },
  {
   "cell_type": "code",
   "execution_count": null,
   "metadata": {
    "pycharm": {
     "name": "#%%\n"
    }
   },
   "outputs": [],
   "source": [
    "for no, topic in lsi.show_topics(num_topics=10, num_words=10, formatted=False):\n",
    "    # print(topic)\n",
    "    for wd, contrib in topic:\n",
    "        word = dictionary.id2token[int(wd)]\n",
    "        print(word, contrib)\n",
    "\n",
    "    print(\"------------------------------------------------------\\n\")\n"
   ]
  },
  {
   "cell_type": "code",
   "execution_count": null,
   "metadata": {
    "pycharm": {
     "name": "#%%\n"
    }
   },
   "outputs": [],
   "source": [
    "for c in lsi[corpus[:10]]:\n",
    "    # print(c)\n",
    "    print(\"Document Topics      : \", c[0])      # [(Topics, Perc Contrib)]\n",
    "    print(\"Word id, Topics      : \", c[1][:3])  # [(Word id, [Topics])]\n",
    "    print(\"Phi Values (word id) : \", c[2][:2])  # [(Word id, [(Topic, Phi Value)])]ord, [(Topic, Phi Value)])]\n",
    "    print(\"------------------------------------------------------\\n\")"
   ]
  },
  {
   "cell_type": "code",
   "execution_count": null,
   "metadata": {
    "pycharm": {
     "name": "#%%\n"
    }
   },
   "outputs": [],
   "source": []
  }
 ],
 "metadata": {
  "kernelspec": {
   "display_name": "scopus37",
   "language": "python",
   "name": "scopus37"
  },
  "language_info": {
   "codemirror_mode": {
    "name": "ipython",
    "version": 2
   },
   "file_extension": ".py",
   "mimetype": "text/x-python",
   "name": "python",
   "nbconvert_exporter": "python",
   "pygments_lexer": "ipython2",
   "version": "2.7.6"
  }
 },
 "nbformat": 4,
 "nbformat_minor": 0
}
