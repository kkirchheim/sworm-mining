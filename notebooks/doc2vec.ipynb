{
 "cells": [
  {
   "cell_type": "markdown",
   "metadata": {
    "pycharm": {
     "name": "#%% md\n"
    }
   },
   "source": [
    "Convert dataframe to input for doc2vec model for clustering"
   ]
  },
  {
   "cell_type": "code",
   "execution_count": null,
   "metadata": {
    "pycharm": {
     "name": "#%%\n"
    }
   },
   "outputs": [],
   "source": [
    "import pandas as pd\n",
    "import src.constants as const\n",
    "from os.path import join\n",
    "\n",
    "directory = join(\"..\", \"..\", \"paragraph-vectors\", \"data\")"
   ]
  },
  {
   "cell_type": "code",
   "execution_count": null,
   "metadata": {
    "pycharm": {
     "name": "#%%\n"
    }
   },
   "outputs": [],
   "source": [
    "df = pd.read_pickle(const.JOURNALS_DF)\n",
    "df2 = pd.DataFrame()\n",
    "df2[\"text\"] = df[\"dc:description\"][~df[\"dc:description\"].isna()].str.lower().values\n",
    "df2.to_csv(join(directory, \"scopus-2.csv\"), index=False, header=False)"
   ]
  },
  {
   "cell_type": "markdown",
   "metadata": {
    "pycharm": {
     "name": "#%% md\n"
    }
   },
   "source": [
    "Further dimensionality reduction with PCA and T-SNE"
   ]
  },
  {
   "cell_type": "code",
   "execution_count": null,
   "metadata": {
    "pycharm": {
     "name": "#%%\n"
    }
   },
   "outputs": [],
   "source": [
    "import matplotlib.pyplot as plt\n",
    "from sklearn.manifold import TSNE\n",
    "import pandas as pd\n",
    "from os.path import join\n",
    "directory = join(\"..\", \"..\", \"paragraph-vectors\", \"data\")\n",
    "df = pd.read_csv(\n",
    "    join(directory,\"scopus-2_model.dbow_numnoisewords.2_vecdim.2000_batchsize.128_lr.0.001000_epoch.24_loss.1.087058.csv\"))"
   ]
  },
  {
   "cell_type": "code",
   "execution_count": null,
   "metadata": {
    "pycharm": {
     "name": "#%%\n"
    }
   },
   "outputs": [],
   "source": [
    "from sklearn.cluster import KMeans\n",
    "k = 20\n",
    "kmeans = KMeans(n_clusters=k, random_state=42) # , n_jobs=-1\n",
    "y_pred = kmeans.fit_predict(df)\n"
   ]
  },
  {
   "cell_type": "code",
   "execution_count": null,
   "metadata": {
    "pycharm": {
     "name": "#%%\n"
    }
   },
   "outputs": [],
   "source": [
    "from sklearn.decomposition import PCA\n",
    "\n",
    "pca = PCA(n_components=1000, random_state=42)\n",
    "X_embedded_pca= pca.fit_transform(df)\n",
    "\n",
    "print(pca.explained_variance_ratio_)\n",
    "print(sum(pca.explained_variance_ratio_))"
   ]
  },
  {
   "cell_type": "code",
   "execution_count": null,
   "metadata": {
    "pycharm": {
     "is_executing": true,
     "name": "#%%\n"
    }
   },
   "outputs": [],
   "source": [
    "tsne = TSNE(random_state=42, perplexity=100) #\n",
    "X_embedded_tsne = tsne.fit_transform(df[:10000]) # X_embedded_pca"
   ]
  },
  {
   "cell_type": "code",
   "execution_count": null,
   "metadata": {
    "pycharm": {
     "is_executing": true,
     "name": "#%%\n"
    }
   },
   "outputs": [],
   "source": [
    "import seaborn as sns\n",
    "import os\n",
    "\n",
    "# sns settings\n",
    "sns.set(rc={'figure.figsize':(20,20)})\n",
    "\n",
    "# plot\n",
    "# hue=(list(y_pred))\n",
    "sns.scatterplot(X_embedded_tsne[:,0], X_embedded_tsne[:,1], legend='full', palette=\"bright\")\n",
    "plt.title(\"Social Work Literature Clustering\")\n",
    "plt.tight_layout()\n",
    "# plt.savefig(os.path.join(const.ARTIFACTS_DIR, \"lit-clustering.pdf\"), dpi=300)\n",
    "plt.show()"
   ]
  },
  {
   "cell_type": "markdown",
   "metadata": {
    "pycharm": {
     "name": "#%% md\n"
    }
   },
   "source": [
    "## Save for bokeh"
   ]
  },
  {
   "cell_type": "code",
   "execution_count": null,
   "metadata": {
    "pycharm": {
     "name": "#%%\n"
    }
   },
   "outputs": [],
   "source": [
    "import pickle\n",
    "import src.constants as const\n",
    "\n",
    "path = join(const.BOKEH_DIR, \"X-embedding-doc2vec.pkl\")\n",
    "with open(path, \"wb\") as f:\n",
    "    pickle.dump(X_embedded_tsne, f)\n",
    "\n",
    "path = join(const.BOKEH_DIR, \"y-pred-doc2vec.pkl\")\n",
    "with open(path, \"wb\") as f:\n",
    "    pickle.dump(y_pred, f)\n",
    "\n",
    "\n"
   ]
  },
  {
   "cell_type": "markdown",
   "metadata": {
    "pycharm": {
     "is_executing": true,
     "name": "#%% md\n"
    }
   },
   "source": [
    "# GenSim\n",
    "\n",
    "doc2vec with gensim\n",
    "\n",
    "https://radimrehurek.com/gensim/auto_examples/tutorials/run_doc2vec_lee.html#sphx-glr-auto-examples-tutorials-run-doc2vec-lee-py"
   ]
  },
  {
   "cell_type": "code",
   "execution_count": null,
   "metadata": {
    "pycharm": {
     "name": "#%%\n"
    }
   },
   "outputs": [],
   "source": [
    "import gensim\n",
    "from os.path import join\n",
    "\n",
    "def read_corpus(fname, tokens_only=False):\n",
    "    with open(fname) as f:\n",
    "        for i, line in enumerate(f):\n",
    "            tokens = gensim.utils.simple_preprocess(line)\n",
    "            if tokens_only:\n",
    "                yield tokens\n",
    "            else:\n",
    "                # For training data, add tags\n",
    "                yield gensim.models.doc2vec.TaggedDocument(tokens, [i])\n",
    "\n"
   ]
  },
  {
   "cell_type": "code",
   "execution_count": null,
   "metadata": {
    "pycharm": {
     "name": "#%%\n"
    }
   },
   "outputs": [],
   "source": [
    "directory = join(\"..\", \"..\", \"paragraph-vectors\", \"data\")\n",
    "path = join(directory, \"scopus-2.csv\")\n",
    "\n",
    "train_corpus = list(read_corpus(path))\n",
    "test_corpus = list(read_corpus(path, tokens_only=True))"
   ]
  },
  {
   "cell_type": "code",
   "execution_count": null,
   "metadata": {
    "pycharm": {
     "name": "#%%\n"
    }
   },
   "outputs": [],
   "source": [
    "print(train_corpus[:2])"
   ]
  },
  {
   "cell_type": "code",
   "execution_count": null,
   "metadata": {
    "pycharm": {
     "name": "#%%\n"
    }
   },
   "outputs": [],
   "source": [
    "import logging\n",
    "FORMAT = '%(asctime)-15s %(clientip)s %(user)-8s %(message)s'\n",
    "logging.basicConfig(format=FORMAT, level=logging.DEBUG)\n"
   ]
  },
  {
   "cell_type": "code",
   "execution_count": null,
   "metadata": {
    "pycharm": {
     "name": "#%%\n"
    }
   },
   "outputs": [],
   "source": [
    "model = gensim.models.doc2vec.Doc2Vec(vector_size=1000, min_count=2, epochs=100, workers=16, dbow_words=1,\n",
    "                                      min_alpha=5e-7, seed=0, alpha=0.1, max_vocab_size=5000)"
   ]
  },
  {
   "cell_type": "code",
   "execution_count": null,
   "metadata": {
    "pycharm": {
     "name": "#%%\n"
    }
   },
   "outputs": [],
   "source": [
    "model.build_vocab(train_corpus)"
   ]
  },
  {
   "cell_type": "code",
   "execution_count": null,
   "metadata": {
    "pycharm": {
     "name": "#%%\n"
    }
   },
   "outputs": [],
   "source": [
    "%time model.train(train_corpus, total_examples=model.corpus_count, epochs=model.epochs, queue_factor=10)"
   ]
  },
  {
   "cell_type": "code",
   "execution_count": null,
   "metadata": {
    "pycharm": {
     "name": "#%%\n"
    }
   },
   "outputs": [],
   "source": [
    "vectors = [model.infer_vector(doc) for doc in test_corpus]"
   ]
  },
  {
   "cell_type": "code",
   "execution_count": null,
   "metadata": {
    "pycharm": {
     "name": "#%%\n"
    }
   },
   "outputs": [],
   "source": [
    "import numpy as np\n",
    "\n",
    "vectors = np.array(vectors)\n"
   ]
  },
  {
   "cell_type": "code",
   "execution_count": null,
   "metadata": {
    "pycharm": {
     "name": "#%%\n"
    }
   },
   "outputs": [],
   "source": [
    "from sklearn.manifold import TSNE\n",
    "from sklearn.decomposition import PCA\n",
    "# pca = PCA(n_components=100, random_state=42)\n",
    "# X_embedded_pca = pca.fit_transform(vectors)\n",
    "#\n",
    "# print(sum(pca.explained_variance_ratio_))\n",
    "\n",
    "tsne = TSNE(random_state=42, perplexity=100) #\n",
    "X_embedded_tsne = tsne.fit_transform(vectors) # X_embedded_pca"
   ]
  },
  {
   "cell_type": "code",
   "execution_count": null,
   "metadata": {
    "pycharm": {
     "name": "#%%\n"
    }
   },
   "outputs": [],
   "source": [
    "import seaborn as sns\n",
    "import matplotlib.pyplot as plt\n",
    "\n",
    "# sns settings\n",
    "sns.set(rc={'figure.figsize':(20,20)})\n",
    "\n",
    "# plot\n",
    "# hue=(list(y_pred))\n",
    "sns.scatterplot(X_embedded_tsne[:,0], X_embedded_tsne[:,1], legend='full', palette=\"bright\")\n",
    "plt.title(\"Social Work Literature Clustering\")\n",
    "plt.tight_layout()\n",
    "# plt.savefig(os.path.join(const.ARTIFACTS_DIR, \"lit-clustering.pdf\"), dpi=300)\n",
    "plt.show()"
   ]
  },
  {
   "cell_type": "code",
   "execution_count": null,
   "metadata": {
    "pycharm": {
     "name": "#%%\n"
    }
   },
   "outputs": [],
   "source": [
    "############################################################################################"
   ]
  },
  {
   "cell_type": "code",
   "execution_count": null,
   "metadata": {
    "pycharm": {
     "name": "#%%\n"
    }
   },
   "outputs": [],
   "source": [
    "from sklearn.cluster import KMeans\n",
    "k = 20\n",
    "kmeans = KMeans(n_clusters=k, random_state=42, n_jobs=-1)\n",
    "%time y_pred = kmeans.fit_predict(vectors)\n"
   ]
  },
  {
   "cell_type": "code",
   "execution_count": null,
   "metadata": {
    "pycharm": {
     "name": "#%%\n"
    }
   },
   "outputs": [],
   "source": [
    "# plot\n",
    "# hue=(list(y_pred))\n",
    "sns.scatterplot(X_embedded_tsne[:,0], X_embedded_tsne[:,1], hue=list(y_pred), legend='full', palette=\"bright\")\n",
    "plt.title(\"Social Work Literature Clustering\")\n",
    "plt.tight_layout()\n",
    "# plt.savefig(os.path.join(const.ARTIFACTS_DIR, \"lit-clustering.pdf\"), dpi=300)\n",
    "plt.show()\n"
   ]
  },
  {
   "cell_type": "code",
   "execution_count": null,
   "metadata": {
    "pycharm": {
     "name": "#%%\n"
    }
   },
   "outputs": [],
   "source": [
    "import pickle\n",
    "import os\n",
    "import src.constants as const\n",
    "\n",
    "with open(os.path.join(const.BOKEH_DIR, \"X-embedding-gensim-doc2vec.pkl\"), \"wb\") as f:\n",
    "    pickle.dump(X_embedded_tsne, f)\n",
    "\n",
    "with open(os.path.join(const.BOKEH_DIR, \"y-pred-gensim-doc2vec.pkl\"), \"wb\") as f:\n",
    "    pickle.dump(y_pred, f)\n"
   ]
  }
 ],
 "metadata": {
  "kernelspec": {
   "display_name": "scopus37",
   "language": "python",
   "name": "scopus37"
  },
  "language_info": {
   "codemirror_mode": {
    "name": "ipython",
    "version": 2
   },
   "file_extension": ".py",
   "mimetype": "text/x-python",
   "name": "python",
   "nbconvert_exporter": "python",
   "pygments_lexer": "ipython2",
   "version": "2.7.6"
  }
 },
 "nbformat": 4,
 "nbformat_minor": 0
}
