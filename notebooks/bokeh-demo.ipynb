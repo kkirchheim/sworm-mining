{
 "cells": [
  {
   "cell_type": "code",
   "execution_count": 1,
   "metadata": {},
   "outputs": [],
   "source": [
    "import pandas as pd\n",
    "import src.constants as const\n",
    "import pickle\n",
    "import os\n",
    "import numpy as np\n",
    "from os.path import join"
   ]
  },
  {
   "cell_type": "code",
   "execution_count": 2,
   "metadata": {
    "pycharm": {
     "name": "#%%\n"
    }
   },
   "outputs": [],
   "source": [
    "# load data\n",
    "df = pd.read_pickle(os.path.join(const.ARTIFACTS_DIR, \"journals-with-stm-topics.pkl\"))\n",
    "\n",
    "\n",
    "df = df[~df[\"dc:description\"].isna()]\n",
    "X_embedded = pickle.load(open(join(const.BOKEH_DIR, \"X-embedding-stm-tfidf.pkl\"), \"rb\"))\n",
    "\n",
    "# y_pred = list(pickle.load(open(const.TFIDF_CLUSTERING, \"rb\")))\n",
    "\n",
    "y_pred = list(df[\"stm:topics\"].apply(lambda x: x[0]))"
   ]
  },
  {
   "cell_type": "code",
   "execution_count": 3,
   "outputs": [],
   "source": [
    "topics_list = list(pd.read_csv(os.path.join(const.ARTIFACTS_DIR, \"Topics_40.csv\"), delimiter=\";\").columns[1:])\n",
    "\n",
    "topics_list = [t.replace(\"&amp;\", \"\\&\") for t in topics_list]"
   ],
   "metadata": {
    "collapsed": false,
    "pycharm": {
     "name": "#%%\n"
    }
   }
  },
  {
   "cell_type": "code",
   "execution_count": 4,
   "metadata": {
    "pycharm": {
     "name": "#%%\n"
    }
   },
   "outputs": [
    {
     "name": "stdout",
     "output_type": "stream",
     "text": [
      "['Journal Of Teaching In Social Work' 'Families In Society' 'Affilia'\n",
      " 'Journal Of Sociology And Social Welfare'\n",
      " 'Research On Social Work Practice' 'Social Work'\n",
      " 'Child And Family Social Work' 'Child And Adolescent Social Work Journal'\n",
      " 'Social Work In Health Care' 'International Social Work'\n",
      " 'Journal Of Social Service Research' 'Social Work Research'\n",
      " 'Health And Social Work' 'British Journal Of Social Work'\n",
      " 'Journal Of Gerontological Social Work'\n",
      " 'Journal Of Social Work Education' 'Social Service Review'\n",
      " 'European Journal Of Social Work'\n",
      " 'Journal Of The Society For Social Work And Research'\n",
      " 'Journal Of Social Work Practice' 'Journal Of Community Practice'\n",
      " 'Australian Social Work' 'Qualitative Social Work']\n",
      "23\n"
     ]
    }
   ],
   "source": [
    "\n",
    "df[\"prism:publicationName\"] = df[\"prism:publicationName\"]\\\n",
    "    .apply(lambda x: x.replace(\"&amp;\", \"and\"))\\\n",
    "    .apply(lambda x: x.title())\\\n",
    "    .apply(lambda x: x.replace(\"Affilia - Journal Of Women And Social Work\", \"Affilia\"))\\\n",
    "    .apply(lambda x: x.replace(\"The Social Service Review\", \"Social Service Review\"))\n",
    "\n",
    "print(df[\"prism:publicationName\"].unique())\n",
    "print(len(df[\"prism:publicationName\"].unique()))\n"
   ]
  },
  {
   "cell_type": "code",
   "execution_count": 5,
   "metadata": {
    "pycharm": {
     "name": "#%%\n"
    }
   },
   "outputs": [],
   "source": [
    "# preprocessing\n",
    "\n",
    "def pre(x):\n",
    "    if type(x) == list:\n",
    "        return \", \".join(x)\n",
    "    return str(x)\n",
    "\n",
    "\n",
    "# for some reason we have to divide by 1x10^6\n",
    "df[\"ts\"] = df[\"prism:coverDate\"].values.astype(np.int64) // 1e6\n",
    "df[\"author:name:pretty\"] = df[\"author:name\"].apply(pre)\n",
    "\n",
    "topic_strings = []\n",
    "topic_top = []\n",
    "\n",
    "for topics, props in zip(df[\"stm:topics\"], df[\"stm:topics:probs\"]):\n",
    "    s = \"\"\n",
    "    m = len(topics)\n",
    "\n",
    "    for n, (topic, prop) in enumerate(zip(topics, props)):\n",
    "        s += f\"{topics_list[topic]} ({prop:.1%})\"\n",
    "        if n < m -1 :\n",
    "            s += \", \"\n",
    "\n",
    "    top_topic = topics[np.argmax(props)]\n",
    "\n",
    "    topic_strings.append(s)\n",
    "    topic_top.append(top_topic)\n",
    "\n",
    "df[\"lda:topics:pretty\"] = pd.Series(topic_strings, index=df.index)\n",
    "df[\"lda:topics:top\"] = pd.Series(topic_top, index=df.index)\n"
   ]
  },
  {
   "cell_type": "code",
   "execution_count": 6,
   "metadata": {
    "pycharm": {
     "name": "#%%\n"
    }
   },
   "outputs": [],
   "source": [
    "from bokeh.plotting import output_file\n",
    "# output to static HTML file\n",
    "output_file(os.path.join(const.BOKEH_DIR ,\"interactive.html\"))\n"
   ]
  },
  {
   "cell_type": "code",
   "execution_count": 7,
   "metadata": {
    "pycharm": {
     "name": "#%%\n"
    }
   },
   "outputs": [
    {
     "name": "stderr",
     "output_type": "stream",
     "text": [
      "BokehDeprecationWarning: 'legend' keyword is deprecated, use explicit 'legend_label', 'legend_field', or 'legend_group' keywords instead\n"
     ]
    },
    {
     "data": {
      "text/plain": "GlyphRenderer(id='1040', ...)",
      "text/html": "<div style=\"display: table;\"><div style=\"display: table-row;\"><div style=\"display: table-cell;\"><b title=\"bokeh.models.renderers.GlyphRenderer\">GlyphRenderer</b>(</div><div style=\"display: table-cell;\">id&nbsp;=&nbsp;'1040', <span id=\"1053\" style=\"cursor: pointer;\">&hellip;)</span></div></div><div class=\"1052\" style=\"display: none;\"><div style=\"display: table-cell;\"></div><div style=\"display: table-cell;\">data_source&nbsp;=&nbsp;ColumnDataSource(id='1001', ...),</div></div><div class=\"1052\" style=\"display: none;\"><div style=\"display: table-cell;\"></div><div style=\"display: table-cell;\">glyph&nbsp;=&nbsp;Scatter(id='1038', ...),</div></div><div class=\"1052\" style=\"display: none;\"><div style=\"display: table-cell;\"></div><div style=\"display: table-cell;\">hover_glyph&nbsp;=&nbsp;None,</div></div><div class=\"1052\" style=\"display: none;\"><div style=\"display: table-cell;\"></div><div style=\"display: table-cell;\">js_event_callbacks&nbsp;=&nbsp;{},</div></div><div class=\"1052\" style=\"display: none;\"><div style=\"display: table-cell;\"></div><div style=\"display: table-cell;\">js_property_callbacks&nbsp;=&nbsp;{},</div></div><div class=\"1052\" style=\"display: none;\"><div style=\"display: table-cell;\"></div><div style=\"display: table-cell;\">level&nbsp;=&nbsp;'glyph',</div></div><div class=\"1052\" style=\"display: none;\"><div style=\"display: table-cell;\"></div><div style=\"display: table-cell;\">muted&nbsp;=&nbsp;False,</div></div><div class=\"1052\" style=\"display: none;\"><div style=\"display: table-cell;\"></div><div style=\"display: table-cell;\">muted_glyph&nbsp;=&nbsp;None,</div></div><div class=\"1052\" style=\"display: none;\"><div style=\"display: table-cell;\"></div><div style=\"display: table-cell;\">name&nbsp;=&nbsp;None,</div></div><div class=\"1052\" style=\"display: none;\"><div style=\"display: table-cell;\"></div><div style=\"display: table-cell;\">nonselection_glyph&nbsp;=&nbsp;Scatter(id='1039', ...),</div></div><div class=\"1052\" style=\"display: none;\"><div style=\"display: table-cell;\"></div><div style=\"display: table-cell;\">selection_glyph&nbsp;=&nbsp;None,</div></div><div class=\"1052\" style=\"display: none;\"><div style=\"display: table-cell;\"></div><div style=\"display: table-cell;\">subscribed_events&nbsp;=&nbsp;[],</div></div><div class=\"1052\" style=\"display: none;\"><div style=\"display: table-cell;\"></div><div style=\"display: table-cell;\">tags&nbsp;=&nbsp;[],</div></div><div class=\"1052\" style=\"display: none;\"><div style=\"display: table-cell;\"></div><div style=\"display: table-cell;\">view&nbsp;=&nbsp;CDSView(id='1041', ...),</div></div><div class=\"1052\" style=\"display: none;\"><div style=\"display: table-cell;\"></div><div style=\"display: table-cell;\">visible&nbsp;=&nbsp;True,</div></div><div class=\"1052\" style=\"display: none;\"><div style=\"display: table-cell;\"></div><div style=\"display: table-cell;\">x_range_name&nbsp;=&nbsp;'default',</div></div><div class=\"1052\" style=\"display: none;\"><div style=\"display: table-cell;\"></div><div style=\"display: table-cell;\">y_range_name&nbsp;=&nbsp;'default')</div></div></div>\n<script>\n(function() {\n  var expanded = false;\n  var ellipsis = document.getElementById(\"1053\");\n  ellipsis.addEventListener(\"click\", function() {\n    var rows = document.getElementsByClassName(\"1052\");\n    for (var i = 0; i < rows.length; i++) {\n      var el = rows[i];\n      el.style.display = expanded ? \"none\" : \"table-row\";\n    }\n    ellipsis.innerHTML = expanded ? \"&hellip;)\" : \"&lsaquo;&lsaquo;&lsaquo;\";\n    expanded = !expanded;\n  });\n})();\n</script>\n"
     },
     "execution_count": 7,
     "metadata": {},
     "output_type": "execute_result"
    }
   ],
   "source": [
    "from bokeh.plotting import figure, show\n",
    "from bokeh.palettes import Category20, Turbo256, linear_palette\n",
    "from bokeh.transform import linear_cmap, factor_cmap\n",
    "from bokeh.models import HoverTool, Div\n",
    "from datetime import date\n",
    "from bokeh.models import ColumnDataSource\n",
    "\n",
    "\n",
    "data = {\"x1\": X_embedded[:,0],\n",
    "        \"x2\": X_embedded[:,1],\n",
    "        \"x1_backup\": X_embedded[:,0],\n",
    "        \"x2_backup\": X_embedded[:,1],\n",
    "        \"label\": df[\"lda:topics:top\"],\n",
    "        \"label2\": y_pred,\n",
    "        \"topics\": df[\"lda:topics:pretty\"],\n",
    "        \"title\": df[\"dc:title\"],\n",
    "        \"date\": df[\"prism:coverDate\"].apply(lambda x: x.strftime(\"%d.%m.%Y\")),\n",
    "        \"timestamp\": df[\"ts\"],\n",
    "        \"author\": df[\"author:name:pretty\"],\n",
    "        \"journal\": df[\"prism:publicationName\"],\n",
    "        \"cluster\": [topics_list[c] for c in y_pred],\n",
    "        \"abstract\": df[\"dc:description\"],\n",
    "        \"doi\": df[\"prism:doi\"]\n",
    "    }\n",
    "\n",
    "source = ColumnDataSource(data=data)\n",
    "\n",
    "\n",
    "color_mapper = factor_cmap(\n",
    "    field_name=\"cluster\",\n",
    "    palette=linear_palette(Turbo256, len(set(y_pred))),\n",
    "    factors=topics_list,\n",
    "    )\n",
    "\n",
    "# color_mapper = factor_cmap(\n",
    "#     field_name=\"journal\",\n",
    "#     palette=linear_palette(Turbo256, len(df[\"prism:publicationName\"].unique())),\n",
    "#     factors=df[\"prism:publicationName\"].unique(),\n",
    "#     )\n",
    "\n",
    "#     linear_cmap(\n",
    "#     field_name=\"journal\",\n",
    "#     palette=Turbo256, #Category20[20],\n",
    "#     low=min(df[\"lda:topics:top\"]),\n",
    "#     high=max(df[\"lda:topics:top\"])\n",
    "#     )\n",
    "\n",
    "\n",
    "# hover over information\n",
    "hover = HoverTool(tooltips=[\n",
    "    (\"Title\", '<div style=\"width:400px;\">@title{safe}</div>'),\n",
    "    (\"Date\", \"@date{safe}\"),\n",
    "    (\"Author(s)\", \"@author{safe}\"),\n",
    "    (\"LDA Topics(s)\", \"@topics{safe}\"),\n",
    "    (\"Journal\", \"@journal{safe}\"),\n",
    "    (\"Abstract\", '<div style=\"width:400px;\">@abstract{safe}</div>'), # wrap abstracts\n",
    "    (\"DOI\", \"@doi\")\n",
    "], point_policy=\"follow_mouse\")\n",
    "\n",
    "plot = figure(plot_width=1800, plot_height=1000, tools=[hover, 'pan', 'wheel_zoom', 'box_zoom', 'reset', 'save', 'tap'],\n",
    "           title=None,  toolbar_location=\"above\")\n",
    "\n",
    "plot.scatter(source=source,x=\"x1\",y=\"x2\",size=5, fill_color=color_mapper, line_alpha=0.3,\n",
    "          line_color=\"black\", legend=\"cluster\")\n"
   ]
  },
  {
   "cell_type": "code",
   "execution_count": 8,
   "metadata": {
    "pycharm": {
     "name": "#%% widgets\n"
    }
   },
   "outputs": [
    {
     "name": "stdout",
     "output_type": "stream",
     "text": [
      "2.2.3\n"
     ]
    },
    {
     "data": {
      "text/plain": "<module 'demo.callbacks' from '/home/ki/projects/scopus/scopus-mining/demo/callbacks.py'>"
     },
     "execution_count": 8,
     "metadata": {},
     "output_type": "execute_result"
    }
   ],
   "source": [
    "import bokeh\n",
    "print(bokeh.__version__)\n",
    "\n",
    "# reload changes in local modules\n",
    "import importlib\n",
    "import demo.callbacks as cb\n",
    "from bokeh.models import TextInput, DateRangeSlider, MultiChoice, Div, CustomJS, TapTool, Title\n",
    "importlib.reload(cb)\n",
    "\n"
   ]
  },
  {
   "cell_type": "code",
   "execution_count": 9,
   "outputs": [],
   "source": [
    "div_info = Div(text=\"Click on an article for details.\",height=150)\n",
    "callback_selected = CustomJS(args=dict(source=source, current_selection=div_info), code=cb.selected_code())\n",
    "taptool = plot.select(type=TapTool)\n",
    "taptool.callback = callback_selected"
   ],
   "metadata": {
    "collapsed": false,
    "pycharm": {
     "name": "#%% handle selection event\n"
    }
   }
  },
  {
   "cell_type": "code",
   "execution_count": 10,
   "outputs": [],
   "source": [
    "input_callback = cb.input_callback(source)\n",
    "\n",
    "\n",
    "text_search = TextInput(title=\"Search:\")\n",
    "text_search.js_on_change(\"value\", input_callback)\n",
    "\n",
    "\n",
    "text_cout_label = Div(text=\"<b>Total Documents:</b>\", height=25)\n",
    "text_count = Div(text=f\"{len(df)}\", height=25)\n",
    "\n",
    "\n",
    "date_range_slider = DateRangeSlider(\n",
    "    title=\"Publication Date\",\n",
    "    value=(date(1960, 1, 1), date.today()),\n",
    "    start=date(1960, 1, 1), end=date.today(), step=1)\n",
    "\n",
    "date_range_slider.js_on_change(\"value\", input_callback)\n",
    "\n",
    "\n",
    "JOURNAL_OPTIONS = [str(i) for i in df[\"prism:publicationName\"].unique()]\n",
    "journal_choice = MultiChoice(value=JOURNAL_OPTIONS, options=JOURNAL_OPTIONS)\n",
    "journal_choice.js_on_change(\"value\", input_callback)\n",
    "\n",
    "topic_choice = MultiChoice(value=topics_list, options=topics_list)\n",
    "topic_choice.js_on_change(\"value\", input_callback)\n",
    "\n",
    "\n",
    "# pass call back arguments\n",
    "input_callback.args[\"text_search\"] = text_search\n",
    "input_callback.args[\"date_range_slider\"] = date_range_slider\n",
    "input_callback.args[\"journal_choice\"] = journal_choice\n",
    "input_callback.args[\"text_count\"] = text_count\n",
    "input_callback.args[\"topic_choice\"] = topic_choice"
   ],
   "metadata": {
    "collapsed": false,
    "pycharm": {
     "name": "#%% other interactive components\n"
    }
   }
  },
  {
   "cell_type": "code",
   "execution_count": 11,
   "outputs": [],
   "source": [
    "title = Div(text=\"<h1>SWORM - Social Work Research Map</h1>\")"
   ],
   "metadata": {
    "collapsed": false,
    "pycharm": {
     "name": "#%% non interactive components\n"
    }
   }
  },
  {
   "cell_type": "code",
   "execution_count": 12,
   "metadata": {
    "pycharm": {
     "name": "#%%\n"
    }
   },
   "outputs": [],
   "source": [
    "plot.sizing_mode = \"scale_both\"\n",
    "plot.margin = 5\n",
    "\n",
    "# plot.legend.location = (1000,0)\n",
    "plot.legend.visible = True\n",
    "plot.legend.label_text_font_size = \"10px\"\n",
    "\n",
    "# plot.legend.click_policy=\"hide\"\n",
    "plot.add_layout(plot.legend[0], 'right')\n",
    "\n",
    "plot.toolbar.logo = None"
   ]
  },
  {
   "cell_type": "code",
   "execution_count": 13,
   "metadata": {
    "pycharm": {
     "name": "#%%\n"
    }
   },
   "outputs": [],
   "source": [
    "from bokeh.layouts import column, row\n",
    "from bokeh.models.widgets import Tabs, Panel\n",
    "\n",
    "info = column([\n",
    "    row([text_cout_label, text_count]),\n",
    "    div_info\n",
    "])\n",
    "\n",
    "journal_pane = Panel(child=journal_choice, title=\"Journals\")\n",
    "topic_pane = Panel(child=topic_choice, title=\"Topics\")\n",
    "tab = Tabs(tabs=[journal_pane, topic_pane])\n",
    "\n",
    "selection = column([date_range_slider, text_search, tab])\n",
    "content = row([selection, plot, info])\n",
    "layout = column([title, content])\n",
    "# scaling\n",
    "layout.sizing_mode = \"scale_both\"\n",
    "\n",
    "show(layout)\n",
    "\n",
    "\n",
    "\n",
    "\n"
   ]
  },
  {
   "cell_type": "code",
   "execution_count": 13,
   "outputs": [],
   "source": [],
   "metadata": {
    "collapsed": false,
    "pycharm": {
     "name": "#%%\n"
    }
   }
  }
 ],
 "metadata": {
  "kernelspec": {
   "display_name": "scopus37",
   "language": "python",
   "name": "scopus37"
  },
  "language_info": {
   "codemirror_mode": {
    "name": "ipython",
    "version": 2
   },
   "file_extension": ".py",
   "mimetype": "text/x-python",
   "name": "python",
   "nbconvert_exporter": "python",
   "pygments_lexer": "ipython2",
   "version": "2.7.6"
  }
 },
 "nbformat": 4,
 "nbformat_minor": 0
}