{
 "cells": [
  {
   "cell_type": "code",
   "execution_count": 3,
   "metadata": {
    "collapsed": true
   },
   "outputs": [],
   "source": [
    "import pandas as pd\n",
    "import src.constants as const\n",
    "import pickle\n",
    "import os\n",
    "import numpy as np"
   ]
  },
  {
   "cell_type": "code",
   "execution_count": 4,
   "outputs": [],
   "source": [
    "# load data\n",
    "df = pd.read_pickle(os.path.join(const.ARTIFACTS_DIR, \"journals-with-topics.pkl\"))\n",
    "\n",
    "embedding_type = \"gensim-doc2vec\" # \"doc2vec\"\n",
    "\n",
    "df = df[~df[\"dc:description\"].isna()]\n",
    "p = os.path.join(const.BOKEH_DIR, f\"X-embedding-{embedding_type}.pkl\")\n",
    "X_embedded = pickle.load(open(p, \"rb\"))\n",
    "\n",
    "p = os.path.join(const.BOKEH_DIR, f\"y-pred-{embedding_type}.pkl\")\n",
    "y_pred = pickle.load(open(p, \"rb\"))"
   ],
   "metadata": {
    "collapsed": false,
    "pycharm": {
     "name": "#%%\n"
    }
   }
  },
  {
   "cell_type": "code",
   "execution_count": 5,
   "outputs": [
    {
     "name": "stdout",
     "output_type": "stream",
     "text": [
      "['Journal Of Teaching In Social Work' 'Families In Society' 'Affilia'\n",
      " 'Journal Of Sociology And Social Welfare'\n",
      " 'Research On Social Work Practice' 'Social Work'\n",
      " 'Child And Family Social Work' 'Child And Adolescent Social Work Journal'\n",
      " 'Social Work In Health Care' 'International Social Work'\n",
      " 'Journal Of Social Service Research' 'Social Work Research'\n",
      " 'Health And Social Work' 'British Journal Of Social Work'\n",
      " 'Journal Of Gerontological Social Work'\n",
      " 'Journal Of Social Work Education' 'Social Service Review'\n",
      " 'European Journal Of Social Work'\n",
      " 'Journal Of The Society For Social Work And Research'\n",
      " 'Journal Of Social Work Practice' 'Journal Of Community Practice'\n",
      " 'Australian Social Work' 'Qualitative Social Work']\n",
      "23\n"
     ]
    }
   ],
   "source": [
    "\n",
    "df[\"prism:publicationName\"] = df[\"prism:publicationName\"]\\\n",
    "    .apply(lambda x: x.replace(\"&amp;\", \"and\"))\\\n",
    "    .apply(lambda x: x.title())\\\n",
    "    .apply(lambda x: x.replace(\"Affilia - Journal Of Women And Social Work\", \"Affilia\"))\\\n",
    "    .apply(lambda x: x.replace(\"The Social Service Review\", \"Social Service Review\"))\n",
    "\n",
    "print(df[\"prism:publicationName\"].unique())\n",
    "print(len(df[\"prism:publicationName\"].unique()))\n"
   ],
   "metadata": {
    "collapsed": false,
    "pycharm": {
     "name": "#%%\n"
    }
   }
  },
  {
   "cell_type": "code",
   "execution_count": 6,
   "outputs": [],
   "source": [
    "# preprocessing\n",
    "\n",
    "def pre(x):\n",
    "    if type(x) == list:\n",
    "        return \", \".join(x)\n",
    "    return str(x)\n",
    "\n",
    "\n",
    "# for some reason we have to divide by 1x10^6\n",
    "df[\"ts\"] = df[\"prism:coverDate\"].values.astype(np.int64) // 1e6\n",
    "df[\"author:name:pretty\"] = df[\"author:name\"].apply(pre)\n",
    "\n",
    "topic_strings = []\n",
    "topic_top = []\n",
    "\n",
    "for topics, props in zip(df[\"lda:topics\"], df[\"lda:topics:props\"]):\n",
    "    s = \"\"\n",
    "    m = len(topics)\n",
    "\n",
    "    for n, (topic, prop) in enumerate(zip(topics, props)):\n",
    "        s += f\"{topic} ({prop:.1%})\"\n",
    "        if n < m -1 :\n",
    "            s += \", \"\n",
    "\n",
    "    top_topic = topics[np.argmax(props)]\n",
    "\n",
    "    topic_strings.append(s)\n",
    "    topic_top.append(top_topic)\n",
    "\n",
    "df[\"lda:topics:pretty\"] = pd.Series(topic_strings, index=df.index)\n",
    "df[\"lda:topics:top\"] = pd.Series(topic_top, index=df.index)\n"
   ],
   "metadata": {
    "collapsed": false,
    "pycharm": {
     "name": "#%%\n"
    }
   }
  },
  {
   "cell_type": "code",
   "execution_count": 7,
   "outputs": [],
   "source": [
    "from bokeh.plotting import output_file\n",
    "# output to static HTML file\n",
    "output_file(os.path.join(const.BOKEH_DIR ,\"interactive.html\"))\n"
   ],
   "metadata": {
    "collapsed": false,
    "pycharm": {
     "name": "#%%\n"
    }
   }
  },
  {
   "cell_type": "code",
   "execution_count": 8,
   "outputs": [
    {
     "name": "stderr",
     "output_type": "stream",
     "text": [
      "BokehDeprecationWarning: 'legend' keyword is deprecated, use explicit 'legend_label', 'legend_field', or 'legend_group' keywords instead\n"
     ]
    },
    {
     "data": {
      "text/plain": "GlyphRenderer(id='1041', ...)",
      "text/html": "<div style=\"display: table;\"><div style=\"display: table-row;\"><div style=\"display: table-cell;\"><b title=\"bokeh.models.renderers.GlyphRenderer\">GlyphRenderer</b>(</div><div style=\"display: table-cell;\">id&nbsp;=&nbsp;'1041', <span id=\"1054\" style=\"cursor: pointer;\">&hellip;)</span></div></div><div class=\"1053\" style=\"display: none;\"><div style=\"display: table-cell;\"></div><div style=\"display: table-cell;\">data_source&nbsp;=&nbsp;ColumnDataSource(id='1001', ...),</div></div><div class=\"1053\" style=\"display: none;\"><div style=\"display: table-cell;\"></div><div style=\"display: table-cell;\">glyph&nbsp;=&nbsp;Scatter(id='1039', ...),</div></div><div class=\"1053\" style=\"display: none;\"><div style=\"display: table-cell;\"></div><div style=\"display: table-cell;\">hover_glyph&nbsp;=&nbsp;None,</div></div><div class=\"1053\" style=\"display: none;\"><div style=\"display: table-cell;\"></div><div style=\"display: table-cell;\">js_event_callbacks&nbsp;=&nbsp;{},</div></div><div class=\"1053\" style=\"display: none;\"><div style=\"display: table-cell;\"></div><div style=\"display: table-cell;\">js_property_callbacks&nbsp;=&nbsp;{},</div></div><div class=\"1053\" style=\"display: none;\"><div style=\"display: table-cell;\"></div><div style=\"display: table-cell;\">level&nbsp;=&nbsp;'glyph',</div></div><div class=\"1053\" style=\"display: none;\"><div style=\"display: table-cell;\"></div><div style=\"display: table-cell;\">muted&nbsp;=&nbsp;False,</div></div><div class=\"1053\" style=\"display: none;\"><div style=\"display: table-cell;\"></div><div style=\"display: table-cell;\">muted_glyph&nbsp;=&nbsp;None,</div></div><div class=\"1053\" style=\"display: none;\"><div style=\"display: table-cell;\"></div><div style=\"display: table-cell;\">name&nbsp;=&nbsp;None,</div></div><div class=\"1053\" style=\"display: none;\"><div style=\"display: table-cell;\"></div><div style=\"display: table-cell;\">nonselection_glyph&nbsp;=&nbsp;Scatter(id='1040', ...),</div></div><div class=\"1053\" style=\"display: none;\"><div style=\"display: table-cell;\"></div><div style=\"display: table-cell;\">selection_glyph&nbsp;=&nbsp;None,</div></div><div class=\"1053\" style=\"display: none;\"><div style=\"display: table-cell;\"></div><div style=\"display: table-cell;\">subscribed_events&nbsp;=&nbsp;[],</div></div><div class=\"1053\" style=\"display: none;\"><div style=\"display: table-cell;\"></div><div style=\"display: table-cell;\">tags&nbsp;=&nbsp;[],</div></div><div class=\"1053\" style=\"display: none;\"><div style=\"display: table-cell;\"></div><div style=\"display: table-cell;\">view&nbsp;=&nbsp;CDSView(id='1042', ...),</div></div><div class=\"1053\" style=\"display: none;\"><div style=\"display: table-cell;\"></div><div style=\"display: table-cell;\">visible&nbsp;=&nbsp;True,</div></div><div class=\"1053\" style=\"display: none;\"><div style=\"display: table-cell;\"></div><div style=\"display: table-cell;\">x_range_name&nbsp;=&nbsp;'default',</div></div><div class=\"1053\" style=\"display: none;\"><div style=\"display: table-cell;\"></div><div style=\"display: table-cell;\">y_range_name&nbsp;=&nbsp;'default')</div></div></div>\n<script>\n(function() {\n  var expanded = false;\n  var ellipsis = document.getElementById(\"1054\");\n  ellipsis.addEventListener(\"click\", function() {\n    var rows = document.getElementsByClassName(\"1053\");\n    for (var i = 0; i < rows.length; i++) {\n      var el = rows[i];\n      el.style.display = expanded ? \"none\" : \"table-row\";\n    }\n    ellipsis.innerHTML = expanded ? \"&hellip;)\" : \"&lsaquo;&lsaquo;&lsaquo;\";\n    expanded = !expanded;\n  });\n})();\n</script>\n"
     },
     "execution_count": 8,
     "metadata": {},
     "output_type": "execute_result"
    }
   ],
   "source": [
    "from bokeh.plotting import figure, show\n",
    "from bokeh.palettes import Category20, Turbo256, linear_palette\n",
    "from bokeh.transform import linear_cmap, factor_cmap\n",
    "from bokeh.models import HoverTool\n",
    "from datetime import date\n",
    "from bokeh.models import ColumnDataSource\n",
    "\n",
    "\n",
    "data = {\"x1\": X_embedded[:,0],\n",
    "        \"x2\": X_embedded[:,1],\n",
    "        \"x1_backup\": X_embedded[:,0],\n",
    "        \"x2_backup\": X_embedded[:,1],\n",
    "        \"label\": df[\"lda:topics:top\"],\n",
    "        \"label2\": y_pred,\n",
    "        \"topics\": df[\"lda:topics:pretty\"],\n",
    "        \"title\": df[\"dc:title\"],\n",
    "        \"date\": df[\"prism:coverDate\"].apply(lambda x: x.strftime(\"%d.%m.%Y\")),\n",
    "        \"timestamp\": df[\"ts\"],\n",
    "        \"author\": df[\"author:name:pretty\"],\n",
    "        \"journal\": df[\"prism:publicationName\"],\n",
    "        \"abstract\": df[\"dc:description\"],\n",
    "        \"doi\": df[\"prism:doi\"]\n",
    "    }\n",
    "\n",
    "source = ColumnDataSource(data=data)\n",
    "\n",
    "color_mapper = factor_cmap(\n",
    "    field_name=\"journal\",\n",
    "    palette=linear_palette(Turbo256, len(df[\"prism:publicationName\"].unique())),\n",
    "    factors=df[\"prism:publicationName\"].unique(),\n",
    "    )\n",
    "\n",
    "#     linear_cmap(\n",
    "#     field_name=\"journal\",\n",
    "#     palette=Turbo256, #Category20[20],\n",
    "#     low=min(df[\"lda:topics:top\"]),\n",
    "#     high=max(df[\"lda:topics:top\"])\n",
    "#     )\n",
    "\n",
    "\n",
    "# hover over information\n",
    "hover = HoverTool(tooltips=[\n",
    "    (\"Title\", '<div style=\"width:400px;\">@title{safe}</div>'),\n",
    "    (\"Date\", \"@date\"),\n",
    "    (\"Author(s)\", \"@author{safe}\"),\n",
    "    (\"Topics(s)\", \"@topics\"),\n",
    "    (\"Journal\", \"@journal\"),\n",
    "    (\"Abstract\", '<div style=\"width:400px;\">@abstract{safe}</div>'), # wrap abstracts\n",
    "    (\"DOI\", \"@doi\")\n",
    "], point_policy=\"follow_mouse\")\n",
    "\n",
    "plot = figure(plot_width=1800, plot_height=1000, tools=[hover, 'pan', 'wheel_zoom', 'box_zoom', 'reset', 'save', 'tap'],\n",
    "           title=\"Clustering of the Scopus Literature with t-SNE and K-Means\",)\n",
    "\n",
    "plot.scatter(source=source,x=\"x1\",y=\"x2\",size=5,fill_color=color_mapper,line_alpha=0.3,\n",
    "          line_color=\"black\", legend = \"journal\")\n"
   ],
   "metadata": {
    "collapsed": false,
    "pycharm": {
     "name": "#%%\n"
    }
   }
  },
  {
   "cell_type": "code",
   "execution_count": 9,
   "outputs": [
    {
     "name": "stdout",
     "output_type": "stream",
     "text": [
      "2.2.3\n"
     ]
    }
   ],
   "source": [
    "import bokeh\n",
    "print(bokeh.__version__)\n",
    "\n",
    "# reload changes in local modules\n",
    "import importlib\n",
    "import demo.lib.call_backs as cb\n",
    "from bokeh.models import TextInput, DateRangeSlider, MultiChoice\n",
    "importlib.reload(cb)\n",
    "\n",
    "\n",
    "callback = cb.selection_callback(source)\n",
    "\n",
    "text_search = TextInput(title=\"Search:\")\n",
    "text_search.js_on_change(\"value\", callback)\n",
    "\n",
    "date_range_slider = DateRangeSlider(\n",
    "    value=(date(1960, 1, 1), date.today()),\n",
    "    start=date(1960, 1, 1), end=date.today(), step=1)\n",
    "\n",
    "date_range_slider.js_on_change(\"value\", callback)\n",
    "\n",
    "OPTIONS = [str(i) for i in df[\"lda:topics:top\"].unique()]\n",
    "\n",
    "cluster_choice = MultiChoice(value=OPTIONS, options=OPTIONS)\n",
    "cluster_choice.js_on_change(\"value\", callback)\n",
    "\n",
    "\n",
    "# pass call back arguments\n",
    "callback.args[\"text_search\"] = text_search\n",
    "callback.args[\"date_range_slider\"] = date_range_slider\n",
    "callback.args[\"cluster_choice\"] = cluster_choice\n"
   ],
   "metadata": {
    "collapsed": false,
    "pycharm": {
     "name": "#%% widgets\n"
    }
   }
  },
  {
   "cell_type": "code",
   "execution_count": 10,
   "outputs": [],
   "source": [
    "plot.sizing_mode = \"scale_both\"\n",
    "plot.margin = 5\n",
    "\n",
    "# plot.legend.location = (1000,0)\n",
    "plot.legend.visible = True\n",
    "plot.legend.click_policy=\"hide\"\n",
    "plot.add_layout(plot.legend[0], 'right')"
   ],
   "metadata": {
    "collapsed": false,
    "pycharm": {
     "name": "#%%\n"
    }
   }
  },
  {
   "cell_type": "code",
   "execution_count": 11,
   "outputs": [],
   "source": [
    "from bokeh.layouts import column\n",
    "l = column([date_range_slider, text_search, cluster_choice, plot])\n",
    "show(l)\n",
    "\n"
   ],
   "metadata": {
    "collapsed": false,
    "pycharm": {
     "name": "#%%\n"
    }
   }
  },
  {
   "cell_type": "code",
   "execution_count": 11,
   "outputs": [],
   "source": [],
   "metadata": {
    "collapsed": false,
    "pycharm": {
     "name": "#%%\n"
    }
   }
  }
 ],
 "metadata": {
  "kernelspec": {
   "name": "scopus37",
   "language": "python",
   "display_name": "scopus37"
  },
  "language_info": {
   "codemirror_mode": {
    "name": "ipython",
    "version": 2
   },
   "file_extension": ".py",
   "mimetype": "text/x-python",
   "name": "python",
   "nbconvert_exporter": "python",
   "pygments_lexer": "ipython2",
   "version": "2.7.6"
  }
 },
 "nbformat": 4,
 "nbformat_minor": 0
}